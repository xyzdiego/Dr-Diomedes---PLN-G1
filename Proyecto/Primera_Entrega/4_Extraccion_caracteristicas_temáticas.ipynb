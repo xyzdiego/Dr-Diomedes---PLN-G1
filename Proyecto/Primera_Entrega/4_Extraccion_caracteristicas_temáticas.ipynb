{
  "nbformat": 4,
  "nbformat_minor": 0,
  "metadata": {
    "colab": {
      "provenance": [],
      "toc_visible": true
    },
    "kernelspec": {
      "name": "python3",
      "display_name": "Python 3"
    },
    "language_info": {
      "name": "python"
    }
  },
  "cells": [
    {
      "cell_type": "markdown",
      "source": [
        "<div align=\"center\">\n",
        "  <h1></h1>\n",
        "  <h1>Universidad Nacional de Colombia</h1>\n",
        "  <h2>Procesamiento del lenguaje natural</h2>\n",
        "  <h2>Proyecto</h2>\n",
        "  <h2>Dr Diomedes:\n",
        "  <h3>Un Bot con sentimiento</h3>\n",
        "  <h3>Grupo 1</h3>\n",
        "  <strong>Estudiantes:</strong>  <br>\n",
        "  Jhojan Sebastian Arango Castillo (<a href=\"mailto:jsarangoca@unal.edu.co\">jsarangoca@unal.edu.co</a>) <br>\n",
        "  Diego Andres Benitez Duarte (<a href=\"mailto:dabenitezd@unal.edu.co\">dabenitezd@unal.edu.co</a>) <br>\n",
        "  Jeraldine Muñoz Alvarado (<a href=\"mailto:jemunozal@unal.edu.co\">jemunozal@unal.edu.co</a>) <br>\n",
        "  Johan Sebastian Suarez Sepulveda (<a href=\"mailto:jemunozal@unal.edu.co\">jssuarezse@unal.edu.co</a>) <br>\n",
        "  <strong>Profesora:</strong> Elizabeth León Guzmán\n",
        "</div>"
      ],
      "metadata": {
        "id": "xMdFpXSk7ZYa"
      }
    },
    {
      "cell_type": "code",
      "execution_count": null,
      "metadata": {
        "id": "UOxwHImMXYt-"
      },
      "outputs": [],
      "source": [
        "import numpy as np\n",
        "import pandas as pd"
      ]
    },
    {
      "cell_type": "code",
      "source": [
        "df2 = pd.read_excel(\"/content/data.xlsx\")"
      ],
      "metadata": {
        "id": "tWNHMgPNXeIx"
      },
      "execution_count": null,
      "outputs": []
    },
    {
      "cell_type": "code",
      "source": [
        "df2.head(5)"
      ],
      "metadata": {
        "colab": {
          "base_uri": "https://localhost:8080/",
          "height": 206
        },
        "id": "dYeKrkS0X3OK",
        "outputId": "51b13fa5-eb71-41c1-9213-5738bdcd2791"
      },
      "execution_count": null,
      "outputs": [
        {
          "output_type": "execute_result",
          "data": {
            "text/plain": [
              "           nombre_cancion                                           frase  \\\n",
              "0              26 de mayo                   el veintiséis del mes de mayo   \n",
              "1               A mi papá                       voy a componé un merengue   \n",
              "2    A un cariño del alma             cuando se acaban todas las palabras   \n",
              "3             A un colega  de una manera especial y en una forma correcta   \n",
              "4  A Un Ladito Del Camino                         hoy me siento enamorado   \n",
              "\n",
              "  sentimiento_predicho sentimiento_emocional  \n",
              "0              neutral           descriptivo  \n",
              "1              neutral           descriptivo  \n",
              "2             negativo             resignado  \n",
              "3              neutral           descriptivo  \n",
              "4             positivo               amoroso  "
            ],
            "text/html": [
              "\n",
              "  <div id=\"df-b0cd2165-4ba3-40f1-a916-121928083f75\" class=\"colab-df-container\">\n",
              "    <div>\n",
              "<style scoped>\n",
              "    .dataframe tbody tr th:only-of-type {\n",
              "        vertical-align: middle;\n",
              "    }\n",
              "\n",
              "    .dataframe tbody tr th {\n",
              "        vertical-align: top;\n",
              "    }\n",
              "\n",
              "    .dataframe thead th {\n",
              "        text-align: right;\n",
              "    }\n",
              "</style>\n",
              "<table border=\"1\" class=\"dataframe\">\n",
              "  <thead>\n",
              "    <tr style=\"text-align: right;\">\n",
              "      <th></th>\n",
              "      <th>nombre_cancion</th>\n",
              "      <th>frase</th>\n",
              "      <th>sentimiento_predicho</th>\n",
              "      <th>sentimiento_emocional</th>\n",
              "    </tr>\n",
              "  </thead>\n",
              "  <tbody>\n",
              "    <tr>\n",
              "      <th>0</th>\n",
              "      <td>26 de mayo</td>\n",
              "      <td>el veintiséis del mes de mayo</td>\n",
              "      <td>neutral</td>\n",
              "      <td>descriptivo</td>\n",
              "    </tr>\n",
              "    <tr>\n",
              "      <th>1</th>\n",
              "      <td>A mi papá</td>\n",
              "      <td>voy a componé un merengue</td>\n",
              "      <td>neutral</td>\n",
              "      <td>descriptivo</td>\n",
              "    </tr>\n",
              "    <tr>\n",
              "      <th>2</th>\n",
              "      <td>A un cariño del alma</td>\n",
              "      <td>cuando se acaban todas las palabras</td>\n",
              "      <td>negativo</td>\n",
              "      <td>resignado</td>\n",
              "    </tr>\n",
              "    <tr>\n",
              "      <th>3</th>\n",
              "      <td>A un colega</td>\n",
              "      <td>de una manera especial y en una forma correcta</td>\n",
              "      <td>neutral</td>\n",
              "      <td>descriptivo</td>\n",
              "    </tr>\n",
              "    <tr>\n",
              "      <th>4</th>\n",
              "      <td>A Un Ladito Del Camino</td>\n",
              "      <td>hoy me siento enamorado</td>\n",
              "      <td>positivo</td>\n",
              "      <td>amoroso</td>\n",
              "    </tr>\n",
              "  </tbody>\n",
              "</table>\n",
              "</div>\n",
              "    <div class=\"colab-df-buttons\">\n",
              "\n",
              "  <div class=\"colab-df-container\">\n",
              "    <button class=\"colab-df-convert\" onclick=\"convertToInteractive('df-b0cd2165-4ba3-40f1-a916-121928083f75')\"\n",
              "            title=\"Convert this dataframe to an interactive table.\"\n",
              "            style=\"display:none;\">\n",
              "\n",
              "  <svg xmlns=\"http://www.w3.org/2000/svg\" height=\"24px\" viewBox=\"0 -960 960 960\">\n",
              "    <path d=\"M120-120v-720h720v720H120Zm60-500h600v-160H180v160Zm220 220h160v-160H400v160Zm0 220h160v-160H400v160ZM180-400h160v-160H180v160Zm440 0h160v-160H620v160ZM180-180h160v-160H180v160Zm440 0h160v-160H620v160Z\"/>\n",
              "  </svg>\n",
              "    </button>\n",
              "\n",
              "  <style>\n",
              "    .colab-df-container {\n",
              "      display:flex;\n",
              "      gap: 12px;\n",
              "    }\n",
              "\n",
              "    .colab-df-convert {\n",
              "      background-color: #E8F0FE;\n",
              "      border: none;\n",
              "      border-radius: 50%;\n",
              "      cursor: pointer;\n",
              "      display: none;\n",
              "      fill: #1967D2;\n",
              "      height: 32px;\n",
              "      padding: 0 0 0 0;\n",
              "      width: 32px;\n",
              "    }\n",
              "\n",
              "    .colab-df-convert:hover {\n",
              "      background-color: #E2EBFA;\n",
              "      box-shadow: 0px 1px 2px rgba(60, 64, 67, 0.3), 0px 1px 3px 1px rgba(60, 64, 67, 0.15);\n",
              "      fill: #174EA6;\n",
              "    }\n",
              "\n",
              "    .colab-df-buttons div {\n",
              "      margin-bottom: 4px;\n",
              "    }\n",
              "\n",
              "    [theme=dark] .colab-df-convert {\n",
              "      background-color: #3B4455;\n",
              "      fill: #D2E3FC;\n",
              "    }\n",
              "\n",
              "    [theme=dark] .colab-df-convert:hover {\n",
              "      background-color: #434B5C;\n",
              "      box-shadow: 0px 1px 3px 1px rgba(0, 0, 0, 0.15);\n",
              "      filter: drop-shadow(0px 1px 2px rgba(0, 0, 0, 0.3));\n",
              "      fill: #FFFFFF;\n",
              "    }\n",
              "  </style>\n",
              "\n",
              "    <script>\n",
              "      const buttonEl =\n",
              "        document.querySelector('#df-b0cd2165-4ba3-40f1-a916-121928083f75 button.colab-df-convert');\n",
              "      buttonEl.style.display =\n",
              "        google.colab.kernel.accessAllowed ? 'block' : 'none';\n",
              "\n",
              "      async function convertToInteractive(key) {\n",
              "        const element = document.querySelector('#df-b0cd2165-4ba3-40f1-a916-121928083f75');\n",
              "        const dataTable =\n",
              "          await google.colab.kernel.invokeFunction('convertToInteractive',\n",
              "                                                    [key], {});\n",
              "        if (!dataTable) return;\n",
              "\n",
              "        const docLinkHtml = 'Like what you see? Visit the ' +\n",
              "          '<a target=\"_blank\" href=https://colab.research.google.com/notebooks/data_table.ipynb>data table notebook</a>'\n",
              "          + ' to learn more about interactive tables.';\n",
              "        element.innerHTML = '';\n",
              "        dataTable['output_type'] = 'display_data';\n",
              "        await google.colab.output.renderOutput(dataTable, element);\n",
              "        const docLink = document.createElement('div');\n",
              "        docLink.innerHTML = docLinkHtml;\n",
              "        element.appendChild(docLink);\n",
              "      }\n",
              "    </script>\n",
              "  </div>\n",
              "\n",
              "\n",
              "    <div id=\"df-57ef3015-39d6-4950-bbc1-59a4c1ecc11d\">\n",
              "      <button class=\"colab-df-quickchart\" onclick=\"quickchart('df-57ef3015-39d6-4950-bbc1-59a4c1ecc11d')\"\n",
              "                title=\"Suggest charts\"\n",
              "                style=\"display:none;\">\n",
              "\n",
              "<svg xmlns=\"http://www.w3.org/2000/svg\" height=\"24px\"viewBox=\"0 0 24 24\"\n",
              "     width=\"24px\">\n",
              "    <g>\n",
              "        <path d=\"M19 3H5c-1.1 0-2 .9-2 2v14c0 1.1.9 2 2 2h14c1.1 0 2-.9 2-2V5c0-1.1-.9-2-2-2zM9 17H7v-7h2v7zm4 0h-2V7h2v10zm4 0h-2v-4h2v4z\"/>\n",
              "    </g>\n",
              "</svg>\n",
              "      </button>\n",
              "\n",
              "<style>\n",
              "  .colab-df-quickchart {\n",
              "      --bg-color: #E8F0FE;\n",
              "      --fill-color: #1967D2;\n",
              "      --hover-bg-color: #E2EBFA;\n",
              "      --hover-fill-color: #174EA6;\n",
              "      --disabled-fill-color: #AAA;\n",
              "      --disabled-bg-color: #DDD;\n",
              "  }\n",
              "\n",
              "  [theme=dark] .colab-df-quickchart {\n",
              "      --bg-color: #3B4455;\n",
              "      --fill-color: #D2E3FC;\n",
              "      --hover-bg-color: #434B5C;\n",
              "      --hover-fill-color: #FFFFFF;\n",
              "      --disabled-bg-color: #3B4455;\n",
              "      --disabled-fill-color: #666;\n",
              "  }\n",
              "\n",
              "  .colab-df-quickchart {\n",
              "    background-color: var(--bg-color);\n",
              "    border: none;\n",
              "    border-radius: 50%;\n",
              "    cursor: pointer;\n",
              "    display: none;\n",
              "    fill: var(--fill-color);\n",
              "    height: 32px;\n",
              "    padding: 0;\n",
              "    width: 32px;\n",
              "  }\n",
              "\n",
              "  .colab-df-quickchart:hover {\n",
              "    background-color: var(--hover-bg-color);\n",
              "    box-shadow: 0 1px 2px rgba(60, 64, 67, 0.3), 0 1px 3px 1px rgba(60, 64, 67, 0.15);\n",
              "    fill: var(--button-hover-fill-color);\n",
              "  }\n",
              "\n",
              "  .colab-df-quickchart-complete:disabled,\n",
              "  .colab-df-quickchart-complete:disabled:hover {\n",
              "    background-color: var(--disabled-bg-color);\n",
              "    fill: var(--disabled-fill-color);\n",
              "    box-shadow: none;\n",
              "  }\n",
              "\n",
              "  .colab-df-spinner {\n",
              "    border: 2px solid var(--fill-color);\n",
              "    border-color: transparent;\n",
              "    border-bottom-color: var(--fill-color);\n",
              "    animation:\n",
              "      spin 1s steps(1) infinite;\n",
              "  }\n",
              "\n",
              "  @keyframes spin {\n",
              "    0% {\n",
              "      border-color: transparent;\n",
              "      border-bottom-color: var(--fill-color);\n",
              "      border-left-color: var(--fill-color);\n",
              "    }\n",
              "    20% {\n",
              "      border-color: transparent;\n",
              "      border-left-color: var(--fill-color);\n",
              "      border-top-color: var(--fill-color);\n",
              "    }\n",
              "    30% {\n",
              "      border-color: transparent;\n",
              "      border-left-color: var(--fill-color);\n",
              "      border-top-color: var(--fill-color);\n",
              "      border-right-color: var(--fill-color);\n",
              "    }\n",
              "    40% {\n",
              "      border-color: transparent;\n",
              "      border-right-color: var(--fill-color);\n",
              "      border-top-color: var(--fill-color);\n",
              "    }\n",
              "    60% {\n",
              "      border-color: transparent;\n",
              "      border-right-color: var(--fill-color);\n",
              "    }\n",
              "    80% {\n",
              "      border-color: transparent;\n",
              "      border-right-color: var(--fill-color);\n",
              "      border-bottom-color: var(--fill-color);\n",
              "    }\n",
              "    90% {\n",
              "      border-color: transparent;\n",
              "      border-bottom-color: var(--fill-color);\n",
              "    }\n",
              "  }\n",
              "</style>\n",
              "\n",
              "      <script>\n",
              "        async function quickchart(key) {\n",
              "          const quickchartButtonEl =\n",
              "            document.querySelector('#' + key + ' button');\n",
              "          quickchartButtonEl.disabled = true;  // To prevent multiple clicks.\n",
              "          quickchartButtonEl.classList.add('colab-df-spinner');\n",
              "          try {\n",
              "            const charts = await google.colab.kernel.invokeFunction(\n",
              "                'suggestCharts', [key], {});\n",
              "          } catch (error) {\n",
              "            console.error('Error during call to suggestCharts:', error);\n",
              "          }\n",
              "          quickchartButtonEl.classList.remove('colab-df-spinner');\n",
              "          quickchartButtonEl.classList.add('colab-df-quickchart-complete');\n",
              "        }\n",
              "        (() => {\n",
              "          let quickchartButtonEl =\n",
              "            document.querySelector('#df-57ef3015-39d6-4950-bbc1-59a4c1ecc11d button');\n",
              "          quickchartButtonEl.style.display =\n",
              "            google.colab.kernel.accessAllowed ? 'block' : 'none';\n",
              "        })();\n",
              "      </script>\n",
              "    </div>\n",
              "\n",
              "    </div>\n",
              "  </div>\n"
            ],
            "application/vnd.google.colaboratory.intrinsic+json": {
              "type": "dataframe",
              "variable_name": "df2",
              "summary": "{\n  \"name\": \"df2\",\n  \"rows\": 17121,\n  \"fields\": [\n    {\n      \"column\": \"nombre_cancion\",\n      \"properties\": {\n        \"dtype\": \"category\",\n        \"num_unique_values\": 420,\n        \"samples\": [\n          \"Esperanza\",\n          \"Que hubo linda\",\n          \"La carta\"\n        ],\n        \"semantic_type\": \"\",\n        \"description\": \"\"\n      }\n    },\n    {\n      \"column\": \"frase\",\n      \"properties\": {\n        \"dtype\": \"string\",\n        \"num_unique_values\": 12474,\n        \"samples\": [\n          \"yo de la mujer libertina\",\n          \"que me coma el tigre que me coma el tigre\",\n          \"por eso es que uno no debe burlarse del mal ajeno\"\n        ],\n        \"semantic_type\": \"\",\n        \"description\": \"\"\n      }\n    },\n    {\n      \"column\": \"sentimiento_predicho\",\n      \"properties\": {\n        \"dtype\": \"category\",\n        \"num_unique_values\": 3,\n        \"samples\": [\n          \"neutral\",\n          \"negativo\",\n          \"positivo\"\n        ],\n        \"semantic_type\": \"\",\n        \"description\": \"\"\n      }\n    },\n    {\n      \"column\": \"sentimiento_emocional\",\n      \"properties\": {\n        \"dtype\": \"category\",\n        \"num_unique_values\": 8,\n        \"samples\": [\n          \"resignado\",\n          \"reflexivo\",\n          \"descriptivo\"\n        ],\n        \"semantic_type\": \"\",\n        \"description\": \"\"\n      }\n    }\n  ]\n}"
            }
          },
          "metadata": {},
          "execution_count": 6
        }
      ]
    },
    {
      "cell_type": "code",
      "source": [
        "df = df2.sort_values(by='nombre_cancion').reset_index(drop=True)\n",
        "display(df.head())"
      ],
      "metadata": {
        "colab": {
          "base_uri": "https://localhost:8080/",
          "height": 206
        },
        "id": "gaSQPA6eX9Ti",
        "outputId": "acc0d2e6-ce3d-4d85-ccc2-e3aa5be19619"
      },
      "execution_count": null,
      "outputs": [
        {
          "output_type": "display_data",
          "data": {
            "text/plain": [
              "  nombre_cancion                                      frase  \\\n",
              "0     26 de mayo              el veintiséis del mes de mayo   \n",
              "1     26 de mayo                      que renovaran su edad   \n",
              "2     26 de mayo  y hoy se conoce con el nombre de diomedes   \n",
              "3     26 de mayo                  y se volvieran a enamorar   \n",
              "4     26 de mayo     y al poco tiempo naciera yo nuevamente   \n",
              "\n",
              "  sentimiento_predicho sentimiento_emocional  \n",
              "0              neutral           descriptivo  \n",
              "1              neutral           descriptivo  \n",
              "2              neutral           descriptivo  \n",
              "3             positivo               amoroso  \n",
              "4              neutral             reflexivo  "
            ],
            "text/html": [
              "\n",
              "  <div id=\"df-2d601f0e-0d37-4994-a6a4-5674f6688a67\" class=\"colab-df-container\">\n",
              "    <div>\n",
              "<style scoped>\n",
              "    .dataframe tbody tr th:only-of-type {\n",
              "        vertical-align: middle;\n",
              "    }\n",
              "\n",
              "    .dataframe tbody tr th {\n",
              "        vertical-align: top;\n",
              "    }\n",
              "\n",
              "    .dataframe thead th {\n",
              "        text-align: right;\n",
              "    }\n",
              "</style>\n",
              "<table border=\"1\" class=\"dataframe\">\n",
              "  <thead>\n",
              "    <tr style=\"text-align: right;\">\n",
              "      <th></th>\n",
              "      <th>nombre_cancion</th>\n",
              "      <th>frase</th>\n",
              "      <th>sentimiento_predicho</th>\n",
              "      <th>sentimiento_emocional</th>\n",
              "    </tr>\n",
              "  </thead>\n",
              "  <tbody>\n",
              "    <tr>\n",
              "      <th>0</th>\n",
              "      <td>26 de mayo</td>\n",
              "      <td>el veintiséis del mes de mayo</td>\n",
              "      <td>neutral</td>\n",
              "      <td>descriptivo</td>\n",
              "    </tr>\n",
              "    <tr>\n",
              "      <th>1</th>\n",
              "      <td>26 de mayo</td>\n",
              "      <td>que renovaran su edad</td>\n",
              "      <td>neutral</td>\n",
              "      <td>descriptivo</td>\n",
              "    </tr>\n",
              "    <tr>\n",
              "      <th>2</th>\n",
              "      <td>26 de mayo</td>\n",
              "      <td>y hoy se conoce con el nombre de diomedes</td>\n",
              "      <td>neutral</td>\n",
              "      <td>descriptivo</td>\n",
              "    </tr>\n",
              "    <tr>\n",
              "      <th>3</th>\n",
              "      <td>26 de mayo</td>\n",
              "      <td>y se volvieran a enamorar</td>\n",
              "      <td>positivo</td>\n",
              "      <td>amoroso</td>\n",
              "    </tr>\n",
              "    <tr>\n",
              "      <th>4</th>\n",
              "      <td>26 de mayo</td>\n",
              "      <td>y al poco tiempo naciera yo nuevamente</td>\n",
              "      <td>neutral</td>\n",
              "      <td>reflexivo</td>\n",
              "    </tr>\n",
              "  </tbody>\n",
              "</table>\n",
              "</div>\n",
              "    <div class=\"colab-df-buttons\">\n",
              "\n",
              "  <div class=\"colab-df-container\">\n",
              "    <button class=\"colab-df-convert\" onclick=\"convertToInteractive('df-2d601f0e-0d37-4994-a6a4-5674f6688a67')\"\n",
              "            title=\"Convert this dataframe to an interactive table.\"\n",
              "            style=\"display:none;\">\n",
              "\n",
              "  <svg xmlns=\"http://www.w3.org/2000/svg\" height=\"24px\" viewBox=\"0 -960 960 960\">\n",
              "    <path d=\"M120-120v-720h720v720H120Zm60-500h600v-160H180v160Zm220 220h160v-160H400v160Zm0 220h160v-160H400v160ZM180-400h160v-160H180v160Zm440 0h160v-160H620v160ZM180-180h160v-160H180v160Zm440 0h160v-160H620v160Z\"/>\n",
              "  </svg>\n",
              "    </button>\n",
              "\n",
              "  <style>\n",
              "    .colab-df-container {\n",
              "      display:flex;\n",
              "      gap: 12px;\n",
              "    }\n",
              "\n",
              "    .colab-df-convert {\n",
              "      background-color: #E8F0FE;\n",
              "      border: none;\n",
              "      border-radius: 50%;\n",
              "      cursor: pointer;\n",
              "      display: none;\n",
              "      fill: #1967D2;\n",
              "      height: 32px;\n",
              "      padding: 0 0 0 0;\n",
              "      width: 32px;\n",
              "    }\n",
              "\n",
              "    .colab-df-convert:hover {\n",
              "      background-color: #E2EBFA;\n",
              "      box-shadow: 0px 1px 2px rgba(60, 64, 67, 0.3), 0px 1px 3px 1px rgba(60, 64, 67, 0.15);\n",
              "      fill: #174EA6;\n",
              "    }\n",
              "\n",
              "    .colab-df-buttons div {\n",
              "      margin-bottom: 4px;\n",
              "    }\n",
              "\n",
              "    [theme=dark] .colab-df-convert {\n",
              "      background-color: #3B4455;\n",
              "      fill: #D2E3FC;\n",
              "    }\n",
              "\n",
              "    [theme=dark] .colab-df-convert:hover {\n",
              "      background-color: #434B5C;\n",
              "      box-shadow: 0px 1px 3px 1px rgba(0, 0, 0, 0.15);\n",
              "      filter: drop-shadow(0px 1px 2px rgba(0, 0, 0, 0.3));\n",
              "      fill: #FFFFFF;\n",
              "    }\n",
              "  </style>\n",
              "\n",
              "    <script>\n",
              "      const buttonEl =\n",
              "        document.querySelector('#df-2d601f0e-0d37-4994-a6a4-5674f6688a67 button.colab-df-convert');\n",
              "      buttonEl.style.display =\n",
              "        google.colab.kernel.accessAllowed ? 'block' : 'none';\n",
              "\n",
              "      async function convertToInteractive(key) {\n",
              "        const element = document.querySelector('#df-2d601f0e-0d37-4994-a6a4-5674f6688a67');\n",
              "        const dataTable =\n",
              "          await google.colab.kernel.invokeFunction('convertToInteractive',\n",
              "                                                    [key], {});\n",
              "        if (!dataTable) return;\n",
              "\n",
              "        const docLinkHtml = 'Like what you see? Visit the ' +\n",
              "          '<a target=\"_blank\" href=https://colab.research.google.com/notebooks/data_table.ipynb>data table notebook</a>'\n",
              "          + ' to learn more about interactive tables.';\n",
              "        element.innerHTML = '';\n",
              "        dataTable['output_type'] = 'display_data';\n",
              "        await google.colab.output.renderOutput(dataTable, element);\n",
              "        const docLink = document.createElement('div');\n",
              "        docLink.innerHTML = docLinkHtml;\n",
              "        element.appendChild(docLink);\n",
              "      }\n",
              "    </script>\n",
              "  </div>\n",
              "\n",
              "\n",
              "    <div id=\"df-051432d9-a08c-4d33-90da-0c0ab603e235\">\n",
              "      <button class=\"colab-df-quickchart\" onclick=\"quickchart('df-051432d9-a08c-4d33-90da-0c0ab603e235')\"\n",
              "                title=\"Suggest charts\"\n",
              "                style=\"display:none;\">\n",
              "\n",
              "<svg xmlns=\"http://www.w3.org/2000/svg\" height=\"24px\"viewBox=\"0 0 24 24\"\n",
              "     width=\"24px\">\n",
              "    <g>\n",
              "        <path d=\"M19 3H5c-1.1 0-2 .9-2 2v14c0 1.1.9 2 2 2h14c1.1 0 2-.9 2-2V5c0-1.1-.9-2-2-2zM9 17H7v-7h2v7zm4 0h-2V7h2v10zm4 0h-2v-4h2v4z\"/>\n",
              "    </g>\n",
              "</svg>\n",
              "      </button>\n",
              "\n",
              "<style>\n",
              "  .colab-df-quickchart {\n",
              "      --bg-color: #E8F0FE;\n",
              "      --fill-color: #1967D2;\n",
              "      --hover-bg-color: #E2EBFA;\n",
              "      --hover-fill-color: #174EA6;\n",
              "      --disabled-fill-color: #AAA;\n",
              "      --disabled-bg-color: #DDD;\n",
              "  }\n",
              "\n",
              "  [theme=dark] .colab-df-quickchart {\n",
              "      --bg-color: #3B4455;\n",
              "      --fill-color: #D2E3FC;\n",
              "      --hover-bg-color: #434B5C;\n",
              "      --hover-fill-color: #FFFFFF;\n",
              "      --disabled-bg-color: #3B4455;\n",
              "      --disabled-fill-color: #666;\n",
              "  }\n",
              "\n",
              "  .colab-df-quickchart {\n",
              "    background-color: var(--bg-color);\n",
              "    border: none;\n",
              "    border-radius: 50%;\n",
              "    cursor: pointer;\n",
              "    display: none;\n",
              "    fill: var(--fill-color);\n",
              "    height: 32px;\n",
              "    padding: 0;\n",
              "    width: 32px;\n",
              "  }\n",
              "\n",
              "  .colab-df-quickchart:hover {\n",
              "    background-color: var(--hover-bg-color);\n",
              "    box-shadow: 0 1px 2px rgba(60, 64, 67, 0.3), 0 1px 3px 1px rgba(60, 64, 67, 0.15);\n",
              "    fill: var(--button-hover-fill-color);\n",
              "  }\n",
              "\n",
              "  .colab-df-quickchart-complete:disabled,\n",
              "  .colab-df-quickchart-complete:disabled:hover {\n",
              "    background-color: var(--disabled-bg-color);\n",
              "    fill: var(--disabled-fill-color);\n",
              "    box-shadow: none;\n",
              "  }\n",
              "\n",
              "  .colab-df-spinner {\n",
              "    border: 2px solid var(--fill-color);\n",
              "    border-color: transparent;\n",
              "    border-bottom-color: var(--fill-color);\n",
              "    animation:\n",
              "      spin 1s steps(1) infinite;\n",
              "  }\n",
              "\n",
              "  @keyframes spin {\n",
              "    0% {\n",
              "      border-color: transparent;\n",
              "      border-bottom-color: var(--fill-color);\n",
              "      border-left-color: var(--fill-color);\n",
              "    }\n",
              "    20% {\n",
              "      border-color: transparent;\n",
              "      border-left-color: var(--fill-color);\n",
              "      border-top-color: var(--fill-color);\n",
              "    }\n",
              "    30% {\n",
              "      border-color: transparent;\n",
              "      border-left-color: var(--fill-color);\n",
              "      border-top-color: var(--fill-color);\n",
              "      border-right-color: var(--fill-color);\n",
              "    }\n",
              "    40% {\n",
              "      border-color: transparent;\n",
              "      border-right-color: var(--fill-color);\n",
              "      border-top-color: var(--fill-color);\n",
              "    }\n",
              "    60% {\n",
              "      border-color: transparent;\n",
              "      border-right-color: var(--fill-color);\n",
              "    }\n",
              "    80% {\n",
              "      border-color: transparent;\n",
              "      border-right-color: var(--fill-color);\n",
              "      border-bottom-color: var(--fill-color);\n",
              "    }\n",
              "    90% {\n",
              "      border-color: transparent;\n",
              "      border-bottom-color: var(--fill-color);\n",
              "    }\n",
              "  }\n",
              "</style>\n",
              "\n",
              "      <script>\n",
              "        async function quickchart(key) {\n",
              "          const quickchartButtonEl =\n",
              "            document.querySelector('#' + key + ' button');\n",
              "          quickchartButtonEl.disabled = true;  // To prevent multiple clicks.\n",
              "          quickchartButtonEl.classList.add('colab-df-spinner');\n",
              "          try {\n",
              "            const charts = await google.colab.kernel.invokeFunction(\n",
              "                'suggestCharts', [key], {});\n",
              "          } catch (error) {\n",
              "            console.error('Error during call to suggestCharts:', error);\n",
              "          }\n",
              "          quickchartButtonEl.classList.remove('colab-df-spinner');\n",
              "          quickchartButtonEl.classList.add('colab-df-quickchart-complete');\n",
              "        }\n",
              "        (() => {\n",
              "          let quickchartButtonEl =\n",
              "            document.querySelector('#df-051432d9-a08c-4d33-90da-0c0ab603e235 button');\n",
              "          quickchartButtonEl.style.display =\n",
              "            google.colab.kernel.accessAllowed ? 'block' : 'none';\n",
              "        })();\n",
              "      </script>\n",
              "    </div>\n",
              "\n",
              "    </div>\n",
              "  </div>\n"
            ],
            "application/vnd.google.colaboratory.intrinsic+json": {
              "type": "dataframe",
              "summary": "{\n  \"name\": \"display(df\",\n  \"rows\": 5,\n  \"fields\": [\n    {\n      \"column\": \"nombre_cancion\",\n      \"properties\": {\n        \"dtype\": \"category\",\n        \"num_unique_values\": 1,\n        \"samples\": [\n          \"26 de mayo\"\n        ],\n        \"semantic_type\": \"\",\n        \"description\": \"\"\n      }\n    },\n    {\n      \"column\": \"frase\",\n      \"properties\": {\n        \"dtype\": \"string\",\n        \"num_unique_values\": 5,\n        \"samples\": [\n          \"que renovaran su edad\"\n        ],\n        \"semantic_type\": \"\",\n        \"description\": \"\"\n      }\n    },\n    {\n      \"column\": \"sentimiento_predicho\",\n      \"properties\": {\n        \"dtype\": \"category\",\n        \"num_unique_values\": 2,\n        \"samples\": [\n          \"positivo\"\n        ],\n        \"semantic_type\": \"\",\n        \"description\": \"\"\n      }\n    },\n    {\n      \"column\": \"sentimiento_emocional\",\n      \"properties\": {\n        \"dtype\": \"string\",\n        \"num_unique_values\": 3,\n        \"samples\": [\n          \"descriptivo\"\n        ],\n        \"semantic_type\": \"\",\n        \"description\": \"\"\n      }\n    }\n  ]\n}"
            }
          },
          "metadata": {}
        }
      ]
    },
    {
      "cell_type": "code",
      "source": [
        "df['nombre_cancion'].nunique(), df.shape"
      ],
      "metadata": {
        "colab": {
          "base_uri": "https://localhost:8080/"
        },
        "id": "Mo4fTaVeYS1k",
        "outputId": "59de29ca-fb31-4aae-a69f-abf10e5bcafe"
      },
      "execution_count": null,
      "outputs": [
        {
          "output_type": "execute_result",
          "data": {
            "text/plain": [
              "(420, (17121, 4))"
            ]
          },
          "metadata": {},
          "execution_count": 8
        }
      ]
    },
    {
      "cell_type": "markdown",
      "source": [
        "#1. Preprocesamiento del texto\n",
        "\n",
        "Antes de que cualquier modelo de machine learning pueda \"entender\" el texto, debemos limpiarlo y estandarizarlo. Este proceso, conocido como preprocesamiento, es crucial para eliminar el \"ruido\" que podría confundir al algoritmo. En esta sección, definimos una función que realiza las siguientes tareas:\n",
        "\n",
        "- **Convertir a minúsculas:** Unifica el texto para que palabras como \"Amor\" y \"amor\" sean tratadas por igual.\n",
        "- **Eliminar puntuación y números:** Se remueven caracteres que generalmente no aportan valor semántico para la clasificación de sentimientos.\n",
        "- **Quitar stopwords:** Se eliminan palabras muy comunes en español (como \"el\", \"de\", \"que\") que no suelen aportar información relevante. Hemos personalizado esta lista para conservar algunas palabras clave con carga afectiva como \"nunca\" o \"siempre\".\n",
        "- **Normalizar espacios:** Se eliminan espacios extra para un formato consistente.\n",
        "\n",
        "Aplicamos esta función a cada frase, creando una nueva columna `frase_limpia` que contendrá el texto listo para ser procesado."
      ],
      "metadata": {
        "id": "TU8g_B14ZiOb"
      }
    },
    {
      "cell_type": "code",
      "metadata": {
        "colab": {
          "base_uri": "https://localhost:8080/"
        },
        "id": "b9de890a",
        "outputId": "7a5a40ac-3bb4-4c7d-ce23-492156cd388c"
      },
      "source": [
        "!pip install unidecode"
      ],
      "execution_count": null,
      "outputs": [
        {
          "output_type": "stream",
          "name": "stdout",
          "text": [
            "Collecting unidecode\n",
            "  Downloading Unidecode-1.4.0-py3-none-any.whl.metadata (13 kB)\n",
            "Downloading Unidecode-1.4.0-py3-none-any.whl (235 kB)\n",
            "\u001b[2K   \u001b[90m━━━━━━━━━━━━━━━━━━━━━━━━━━━━━━━━━━━━━━━━\u001b[0m \u001b[32m235.8/235.8 kB\u001b[0m \u001b[31m3.6 MB/s\u001b[0m eta \u001b[36m0:00:00\u001b[0m\n",
            "\u001b[?25hInstalling collected packages: unidecode\n",
            "Successfully installed unidecode-1.4.0\n"
          ]
        }
      ]
    },
    {
      "cell_type": "code",
      "source": [
        "import pandas as pd\n",
        "import re\n",
        "import string\n",
        "from nltk.corpus import stopwords\n",
        "import nltk\n",
        "\n",
        "# Descargar stopwords en español (solo la primera vez)\n",
        "nltk.download('stopwords')\n",
        "\n",
        "# Creamos una lista de stopwords base en español\n",
        "stop_words = set(stopwords.words('spanish'))\n",
        "\n",
        "# Opcional: eliminar algunas palabras que sí tienen valor afectivo\n",
        "palabras_relevantes = {'más', 'menos', 'nunca', 'siempre', 'nadie', 'nada'}\n",
        "stop_words = stop_words - palabras_relevantes\n",
        "\n",
        "def limpiar_texto(texto):\n",
        "    # Si el valor no es string, lo convierte en cadena vacía\n",
        "    if not isinstance(texto, str):\n",
        "        return \"\"\n",
        "    texto = texto.lower()                                 # minúsculas\n",
        "    texto = re.sub(f\"[{string.punctuation}]\", \"\", texto)  # quitar signos\n",
        "    texto = re.sub(r\"\\d+\", \"\", texto)                     # quitar números\n",
        "    texto = re.sub(r\"\\s+\", \" \", texto).strip()            # espacios múltiples\n",
        "    palabras = [p for p in texto.split() if p not in stop_words]\n",
        "    return \" \".join(palabras)\n",
        "\n",
        "# Aplicar a la columna\n",
        "df['frase_limpia'] = df['frase'].apply(limpiar_texto)\n",
        "\n",
        "display(df[['frase', 'frase_limpia']].head())"
      ],
      "metadata": {
        "colab": {
          "base_uri": "https://localhost:8080/",
          "height": 241
        },
        "id": "pzEG2-Q3ZMaq",
        "outputId": "fd60a6c3-2d00-4fd1-efea-0f6df68a67ac"
      },
      "execution_count": null,
      "outputs": [
        {
          "output_type": "stream",
          "name": "stderr",
          "text": [
            "[nltk_data] Downloading package stopwords to /root/nltk_data...\n",
            "[nltk_data]   Unzipping corpora/stopwords.zip.\n"
          ]
        },
        {
          "output_type": "display_data",
          "data": {
            "text/plain": [
              "                                       frase                frase_limpia\n",
              "0              el veintiséis del mes de mayo         veintiséis mes mayo\n",
              "1                      que renovaran su edad              renovaran edad\n",
              "2  y hoy se conoce con el nombre de diomedes  hoy conoce nombre diomedes\n",
              "3                  y se volvieran a enamorar          volvieran enamorar\n",
              "4     y al poco tiempo naciera yo nuevamente   tiempo naciera nuevamente"
            ],
            "text/html": [
              "\n",
              "  <div id=\"df-9fb59606-d76f-4a7a-bc7e-5d86d40aee7d\" class=\"colab-df-container\">\n",
              "    <div>\n",
              "<style scoped>\n",
              "    .dataframe tbody tr th:only-of-type {\n",
              "        vertical-align: middle;\n",
              "    }\n",
              "\n",
              "    .dataframe tbody tr th {\n",
              "        vertical-align: top;\n",
              "    }\n",
              "\n",
              "    .dataframe thead th {\n",
              "        text-align: right;\n",
              "    }\n",
              "</style>\n",
              "<table border=\"1\" class=\"dataframe\">\n",
              "  <thead>\n",
              "    <tr style=\"text-align: right;\">\n",
              "      <th></th>\n",
              "      <th>frase</th>\n",
              "      <th>frase_limpia</th>\n",
              "    </tr>\n",
              "  </thead>\n",
              "  <tbody>\n",
              "    <tr>\n",
              "      <th>0</th>\n",
              "      <td>el veintiséis del mes de mayo</td>\n",
              "      <td>veintiséis mes mayo</td>\n",
              "    </tr>\n",
              "    <tr>\n",
              "      <th>1</th>\n",
              "      <td>que renovaran su edad</td>\n",
              "      <td>renovaran edad</td>\n",
              "    </tr>\n",
              "    <tr>\n",
              "      <th>2</th>\n",
              "      <td>y hoy se conoce con el nombre de diomedes</td>\n",
              "      <td>hoy conoce nombre diomedes</td>\n",
              "    </tr>\n",
              "    <tr>\n",
              "      <th>3</th>\n",
              "      <td>y se volvieran a enamorar</td>\n",
              "      <td>volvieran enamorar</td>\n",
              "    </tr>\n",
              "    <tr>\n",
              "      <th>4</th>\n",
              "      <td>y al poco tiempo naciera yo nuevamente</td>\n",
              "      <td>tiempo naciera nuevamente</td>\n",
              "    </tr>\n",
              "  </tbody>\n",
              "</table>\n",
              "</div>\n",
              "    <div class=\"colab-df-buttons\">\n",
              "\n",
              "  <div class=\"colab-df-container\">\n",
              "    <button class=\"colab-df-convert\" onclick=\"convertToInteractive('df-9fb59606-d76f-4a7a-bc7e-5d86d40aee7d')\"\n",
              "            title=\"Convert this dataframe to an interactive table.\"\n",
              "            style=\"display:none;\">\n",
              "\n",
              "  <svg xmlns=\"http://www.w3.org/2000/svg\" height=\"24px\" viewBox=\"0 -960 960 960\">\n",
              "    <path d=\"M120-120v-720h720v720H120Zm60-500h600v-160H180v160Zm220 220h160v-160H400v160Zm0 220h160v-160H400v160ZM180-400h160v-160H180v160Zm440 0h160v-160H620v160ZM180-180h160v-160H180v160Zm440 0h160v-160H620v160Z\"/>\n",
              "  </svg>\n",
              "    </button>\n",
              "\n",
              "  <style>\n",
              "    .colab-df-container {\n",
              "      display:flex;\n",
              "      gap: 12px;\n",
              "    }\n",
              "\n",
              "    .colab-df-convert {\n",
              "      background-color: #E8F0FE;\n",
              "      border: none;\n",
              "      border-radius: 50%;\n",
              "      cursor: pointer;\n",
              "      display: none;\n",
              "      fill: #1967D2;\n",
              "      height: 32px;\n",
              "      padding: 0 0 0 0;\n",
              "      width: 32px;\n",
              "    }\n",
              "\n",
              "    .colab-df-convert:hover {\n",
              "      background-color: #E2EBFA;\n",
              "      box-shadow: 0px 1px 2px rgba(60, 64, 67, 0.3), 0px 1px 3px 1px rgba(60, 64, 67, 0.15);\n",
              "      fill: #174EA6;\n",
              "    }\n",
              "\n",
              "    .colab-df-buttons div {\n",
              "      margin-bottom: 4px;\n",
              "    }\n",
              "\n",
              "    [theme=dark] .colab-df-convert {\n",
              "      background-color: #3B4455;\n",
              "      fill: #D2E3FC;\n",
              "    }\n",
              "\n",
              "    [theme=dark] .colab-df-convert:hover {\n",
              "      background-color: #434B5C;\n",
              "      box-shadow: 0px 1px 3px 1px rgba(0, 0, 0, 0.15);\n",
              "      filter: drop-shadow(0px 1px 2px rgba(0, 0, 0, 0.3));\n",
              "      fill: #FFFFFF;\n",
              "    }\n",
              "  </style>\n",
              "\n",
              "    <script>\n",
              "      const buttonEl =\n",
              "        document.querySelector('#df-9fb59606-d76f-4a7a-bc7e-5d86d40aee7d button.colab-df-convert');\n",
              "      buttonEl.style.display =\n",
              "        google.colab.kernel.accessAllowed ? 'block' : 'none';\n",
              "\n",
              "      async function convertToInteractive(key) {\n",
              "        const element = document.querySelector('#df-9fb59606-d76f-4a7a-bc7e-5d86d40aee7d');\n",
              "        const dataTable =\n",
              "          await google.colab.kernel.invokeFunction('convertToInteractive',\n",
              "                                                    [key], {});\n",
              "        if (!dataTable) return;\n",
              "\n",
              "        const docLinkHtml = 'Like what you see? Visit the ' +\n",
              "          '<a target=\"_blank\" href=https://colab.research.google.com/notebooks/data_table.ipynb>data table notebook</a>'\n",
              "          + ' to learn more about interactive tables.';\n",
              "        element.innerHTML = '';\n",
              "        dataTable['output_type'] = 'display_data';\n",
              "        await google.colab.output.renderOutput(dataTable, element);\n",
              "        const docLink = document.createElement('div');\n",
              "        docLink.innerHTML = docLinkHtml;\n",
              "        element.appendChild(docLink);\n",
              "      }\n",
              "    </script>\n",
              "  </div>\n",
              "\n",
              "\n",
              "    <div id=\"df-8d5d0868-2794-441c-b0ad-d1c087dde2a6\">\n",
              "      <button class=\"colab-df-quickchart\" onclick=\"quickchart('df-8d5d0868-2794-441c-b0ad-d1c087dde2a6')\"\n",
              "                title=\"Suggest charts\"\n",
              "                style=\"display:none;\">\n",
              "\n",
              "<svg xmlns=\"http://www.w3.org/2000/svg\" height=\"24px\"viewBox=\"0 0 24 24\"\n",
              "     width=\"24px\">\n",
              "    <g>\n",
              "        <path d=\"M19 3H5c-1.1 0-2 .9-2 2v14c0 1.1.9 2 2 2h14c1.1 0 2-.9 2-2V5c0-1.1-.9-2-2-2zM9 17H7v-7h2v7zm4 0h-2V7h2v10zm4 0h-2v-4h2v4z\"/>\n",
              "    </g>\n",
              "</svg>\n",
              "      </button>\n",
              "\n",
              "<style>\n",
              "  .colab-df-quickchart {\n",
              "      --bg-color: #E8F0FE;\n",
              "      --fill-color: #1967D2;\n",
              "      --hover-bg-color: #E2EBFA;\n",
              "      --hover-fill-color: #174EA6;\n",
              "      --disabled-fill-color: #AAA;\n",
              "      --disabled-bg-color: #DDD;\n",
              "  }\n",
              "\n",
              "  [theme=dark] .colab-df-quickchart {\n",
              "      --bg-color: #3B4455;\n",
              "      --fill-color: #D2E3FC;\n",
              "      --hover-bg-color: #434B5C;\n",
              "      --hover-fill-color: #FFFFFF;\n",
              "      --disabled-bg-color: #3B4455;\n",
              "      --disabled-fill-color: #666;\n",
              "  }\n",
              "\n",
              "  .colab-df-quickchart {\n",
              "    background-color: var(--bg-color);\n",
              "    border: none;\n",
              "    border-radius: 50%;\n",
              "    cursor: pointer;\n",
              "    display: none;\n",
              "    fill: var(--fill-color);\n",
              "    height: 32px;\n",
              "    padding: 0;\n",
              "    width: 32px;\n",
              "  }\n",
              "\n",
              "  .colab-df-quickchart:hover {\n",
              "    background-color: var(--hover-bg-color);\n",
              "    box-shadow: 0 1px 2px rgba(60, 64, 67, 0.3), 0 1px 3px 1px rgba(60, 64, 67, 0.15);\n",
              "    fill: var(--button-hover-fill-color);\n",
              "  }\n",
              "\n",
              "  .colab-df-quickchart-complete:disabled,\n",
              "  .colab-df-quickchart-complete:disabled:hover {\n",
              "    background-color: var(--disabled-bg-color);\n",
              "    fill: var(--disabled-fill-color);\n",
              "    box-shadow: none;\n",
              "  }\n",
              "\n",
              "  .colab-df-spinner {\n",
              "    border: 2px solid var(--fill-color);\n",
              "    border-color: transparent;\n",
              "    border-bottom-color: var(--fill-color);\n",
              "    animation:\n",
              "      spin 1s steps(1) infinite;\n",
              "  }\n",
              "\n",
              "  @keyframes spin {\n",
              "    0% {\n",
              "      border-color: transparent;\n",
              "      border-bottom-color: var(--fill-color);\n",
              "      border-left-color: var(--fill-color);\n",
              "    }\n",
              "    20% {\n",
              "      border-color: transparent;\n",
              "      border-left-color: var(--fill-color);\n",
              "      border-top-color: var(--fill-color);\n",
              "    }\n",
              "    30% {\n",
              "      border-color: transparent;\n",
              "      border-left-color: var(--fill-color);\n",
              "      border-top-color: var(--fill-color);\n",
              "      border-right-color: var(--fill-color);\n",
              "    }\n",
              "    40% {\n",
              "      border-color: transparent;\n",
              "      border-right-color: var(--fill-color);\n",
              "      border-top-color: var(--fill-color);\n",
              "    }\n",
              "    60% {\n",
              "      border-color: transparent;\n",
              "      border-right-color: var(--fill-color);\n",
              "    }\n",
              "    80% {\n",
              "      border-color: transparent;\n",
              "      border-right-color: var(--fill-color);\n",
              "      border-bottom-color: var(--fill-color);\n",
              "    }\n",
              "    90% {\n",
              "      border-color: transparent;\n",
              "      border-bottom-color: var(--fill-color);\n",
              "    }\n",
              "  }\n",
              "</style>\n",
              "\n",
              "      <script>\n",
              "        async function quickchart(key) {\n",
              "          const quickchartButtonEl =\n",
              "            document.querySelector('#' + key + ' button');\n",
              "          quickchartButtonEl.disabled = true;  // To prevent multiple clicks.\n",
              "          quickchartButtonEl.classList.add('colab-df-spinner');\n",
              "          try {\n",
              "            const charts = await google.colab.kernel.invokeFunction(\n",
              "                'suggestCharts', [key], {});\n",
              "          } catch (error) {\n",
              "            console.error('Error during call to suggestCharts:', error);\n",
              "          }\n",
              "          quickchartButtonEl.classList.remove('colab-df-spinner');\n",
              "          quickchartButtonEl.classList.add('colab-df-quickchart-complete');\n",
              "        }\n",
              "        (() => {\n",
              "          let quickchartButtonEl =\n",
              "            document.querySelector('#df-8d5d0868-2794-441c-b0ad-d1c087dde2a6 button');\n",
              "          quickchartButtonEl.style.display =\n",
              "            google.colab.kernel.accessAllowed ? 'block' : 'none';\n",
              "        })();\n",
              "      </script>\n",
              "    </div>\n",
              "\n",
              "    </div>\n",
              "  </div>\n"
            ],
            "application/vnd.google.colaboratory.intrinsic+json": {
              "type": "dataframe",
              "summary": "{\n  \"name\": \"display(df[['frase', 'frase_limpia']]\",\n  \"rows\": 5,\n  \"fields\": [\n    {\n      \"column\": \"frase\",\n      \"properties\": {\n        \"dtype\": \"string\",\n        \"num_unique_values\": 5,\n        \"samples\": [\n          \"que renovaran su edad\",\n          \"y al poco tiempo naciera yo nuevamente\",\n          \"y hoy se conoce con el nombre de diomedes\"\n        ],\n        \"semantic_type\": \"\",\n        \"description\": \"\"\n      }\n    },\n    {\n      \"column\": \"frase_limpia\",\n      \"properties\": {\n        \"dtype\": \"string\",\n        \"num_unique_values\": 5,\n        \"samples\": [\n          \"renovaran edad\",\n          \"tiempo naciera nuevamente\",\n          \"hoy conoce nombre diomedes\"\n        ],\n        \"semantic_type\": \"\",\n        \"description\": \"\"\n      }\n    }\n  ]\n}"
            }
          },
          "metadata": {}
        }
      ]
    },
    {
      "cell_type": "code",
      "source": [
        "df[df['frase'].apply(lambda x: not isinstance(x, str))]"
      ],
      "metadata": {
        "colab": {
          "base_uri": "https://localhost:8080/",
          "height": 112
        },
        "id": "ZPAZjAdg5ffT",
        "outputId": "5117df6d-2d80-4af4-9833-9396d0736113"
      },
      "execution_count": null,
      "outputs": [
        {
          "output_type": "execute_result",
          "data": {
            "text/plain": [
              "           nombre_cancion frase sentimiento_predicho sentimiento_emocional  \\\n",
              "5789          El tropezon   NaN              neutral             reflexivo   \n",
              "16213  Un Ramito de Olivo   NaN              neutral             reflexivo   \n",
              "\n",
              "      frase_limpia  \n",
              "5789                \n",
              "16213               "
            ],
            "text/html": [
              "\n",
              "  <div id=\"df-ee0f43b2-e120-4634-bd27-a38d8faa427c\" class=\"colab-df-container\">\n",
              "    <div>\n",
              "<style scoped>\n",
              "    .dataframe tbody tr th:only-of-type {\n",
              "        vertical-align: middle;\n",
              "    }\n",
              "\n",
              "    .dataframe tbody tr th {\n",
              "        vertical-align: top;\n",
              "    }\n",
              "\n",
              "    .dataframe thead th {\n",
              "        text-align: right;\n",
              "    }\n",
              "</style>\n",
              "<table border=\"1\" class=\"dataframe\">\n",
              "  <thead>\n",
              "    <tr style=\"text-align: right;\">\n",
              "      <th></th>\n",
              "      <th>nombre_cancion</th>\n",
              "      <th>frase</th>\n",
              "      <th>sentimiento_predicho</th>\n",
              "      <th>sentimiento_emocional</th>\n",
              "      <th>frase_limpia</th>\n",
              "    </tr>\n",
              "  </thead>\n",
              "  <tbody>\n",
              "    <tr>\n",
              "      <th>5789</th>\n",
              "      <td>El tropezon</td>\n",
              "      <td>NaN</td>\n",
              "      <td>neutral</td>\n",
              "      <td>reflexivo</td>\n",
              "      <td></td>\n",
              "    </tr>\n",
              "    <tr>\n",
              "      <th>16213</th>\n",
              "      <td>Un Ramito de Olivo</td>\n",
              "      <td>NaN</td>\n",
              "      <td>neutral</td>\n",
              "      <td>reflexivo</td>\n",
              "      <td></td>\n",
              "    </tr>\n",
              "  </tbody>\n",
              "</table>\n",
              "</div>\n",
              "    <div class=\"colab-df-buttons\">\n",
              "\n",
              "  <div class=\"colab-df-container\">\n",
              "    <button class=\"colab-df-convert\" onclick=\"convertToInteractive('df-ee0f43b2-e120-4634-bd27-a38d8faa427c')\"\n",
              "            title=\"Convert this dataframe to an interactive table.\"\n",
              "            style=\"display:none;\">\n",
              "\n",
              "  <svg xmlns=\"http://www.w3.org/2000/svg\" height=\"24px\" viewBox=\"0 -960 960 960\">\n",
              "    <path d=\"M120-120v-720h720v720H120Zm60-500h600v-160H180v160Zm220 220h160v-160H400v160Zm0 220h160v-160H400v160ZM180-400h160v-160H180v160Zm440 0h160v-160H620v160ZM180-180h160v-160H180v160Zm440 0h160v-160H620v160Z\"/>\n",
              "  </svg>\n",
              "    </button>\n",
              "\n",
              "  <style>\n",
              "    .colab-df-container {\n",
              "      display:flex;\n",
              "      gap: 12px;\n",
              "    }\n",
              "\n",
              "    .colab-df-convert {\n",
              "      background-color: #E8F0FE;\n",
              "      border: none;\n",
              "      border-radius: 50%;\n",
              "      cursor: pointer;\n",
              "      display: none;\n",
              "      fill: #1967D2;\n",
              "      height: 32px;\n",
              "      padding: 0 0 0 0;\n",
              "      width: 32px;\n",
              "    }\n",
              "\n",
              "    .colab-df-convert:hover {\n",
              "      background-color: #E2EBFA;\n",
              "      box-shadow: 0px 1px 2px rgba(60, 64, 67, 0.3), 0px 1px 3px 1px rgba(60, 64, 67, 0.15);\n",
              "      fill: #174EA6;\n",
              "    }\n",
              "\n",
              "    .colab-df-buttons div {\n",
              "      margin-bottom: 4px;\n",
              "    }\n",
              "\n",
              "    [theme=dark] .colab-df-convert {\n",
              "      background-color: #3B4455;\n",
              "      fill: #D2E3FC;\n",
              "    }\n",
              "\n",
              "    [theme=dark] .colab-df-convert:hover {\n",
              "      background-color: #434B5C;\n",
              "      box-shadow: 0px 1px 3px 1px rgba(0, 0, 0, 0.15);\n",
              "      filter: drop-shadow(0px 1px 2px rgba(0, 0, 0, 0.3));\n",
              "      fill: #FFFFFF;\n",
              "    }\n",
              "  </style>\n",
              "\n",
              "    <script>\n",
              "      const buttonEl =\n",
              "        document.querySelector('#df-ee0f43b2-e120-4634-bd27-a38d8faa427c button.colab-df-convert');\n",
              "      buttonEl.style.display =\n",
              "        google.colab.kernel.accessAllowed ? 'block' : 'none';\n",
              "\n",
              "      async function convertToInteractive(key) {\n",
              "        const element = document.querySelector('#df-ee0f43b2-e120-4634-bd27-a38d8faa427c');\n",
              "        const dataTable =\n",
              "          await google.colab.kernel.invokeFunction('convertToInteractive',\n",
              "                                                    [key], {});\n",
              "        if (!dataTable) return;\n",
              "\n",
              "        const docLinkHtml = 'Like what you see? Visit the ' +\n",
              "          '<a target=\"_blank\" href=https://colab.research.google.com/notebooks/data_table.ipynb>data table notebook</a>'\n",
              "          + ' to learn more about interactive tables.';\n",
              "        element.innerHTML = '';\n",
              "        dataTable['output_type'] = 'display_data';\n",
              "        await google.colab.output.renderOutput(dataTable, element);\n",
              "        const docLink = document.createElement('div');\n",
              "        docLink.innerHTML = docLinkHtml;\n",
              "        element.appendChild(docLink);\n",
              "      }\n",
              "    </script>\n",
              "  </div>\n",
              "\n",
              "\n",
              "    <div id=\"df-04fa2c5d-7f66-45e7-901e-276dbf2bc062\">\n",
              "      <button class=\"colab-df-quickchart\" onclick=\"quickchart('df-04fa2c5d-7f66-45e7-901e-276dbf2bc062')\"\n",
              "                title=\"Suggest charts\"\n",
              "                style=\"display:none;\">\n",
              "\n",
              "<svg xmlns=\"http://www.w3.org/2000/svg\" height=\"24px\"viewBox=\"0 0 24 24\"\n",
              "     width=\"24px\">\n",
              "    <g>\n",
              "        <path d=\"M19 3H5c-1.1 0-2 .9-2 2v14c0 1.1.9 2 2 2h14c1.1 0 2-.9 2-2V5c0-1.1-.9-2-2-2zM9 17H7v-7h2v7zm4 0h-2V7h2v10zm4 0h-2v-4h2v4z\"/>\n",
              "    </g>\n",
              "</svg>\n",
              "      </button>\n",
              "\n",
              "<style>\n",
              "  .colab-df-quickchart {\n",
              "      --bg-color: #E8F0FE;\n",
              "      --fill-color: #1967D2;\n",
              "      --hover-bg-color: #E2EBFA;\n",
              "      --hover-fill-color: #174EA6;\n",
              "      --disabled-fill-color: #AAA;\n",
              "      --disabled-bg-color: #DDD;\n",
              "  }\n",
              "\n",
              "  [theme=dark] .colab-df-quickchart {\n",
              "      --bg-color: #3B4455;\n",
              "      --fill-color: #D2E3FC;\n",
              "      --hover-bg-color: #434B5C;\n",
              "      --hover-fill-color: #FFFFFF;\n",
              "      --disabled-bg-color: #3B4455;\n",
              "      --disabled-fill-color: #666;\n",
              "  }\n",
              "\n",
              "  .colab-df-quickchart {\n",
              "    background-color: var(--bg-color);\n",
              "    border: none;\n",
              "    border-radius: 50%;\n",
              "    cursor: pointer;\n",
              "    display: none;\n",
              "    fill: var(--fill-color);\n",
              "    height: 32px;\n",
              "    padding: 0;\n",
              "    width: 32px;\n",
              "  }\n",
              "\n",
              "  .colab-df-quickchart:hover {\n",
              "    background-color: var(--hover-bg-color);\n",
              "    box-shadow: 0 1px 2px rgba(60, 64, 67, 0.3), 0 1px 3px 1px rgba(60, 64, 67, 0.15);\n",
              "    fill: var(--button-hover-fill-color);\n",
              "  }\n",
              "\n",
              "  .colab-df-quickchart-complete:disabled,\n",
              "  .colab-df-quickchart-complete:disabled:hover {\n",
              "    background-color: var(--disabled-bg-color);\n",
              "    fill: var(--disabled-fill-color);\n",
              "    box-shadow: none;\n",
              "  }\n",
              "\n",
              "  .colab-df-spinner {\n",
              "    border: 2px solid var(--fill-color);\n",
              "    border-color: transparent;\n",
              "    border-bottom-color: var(--fill-color);\n",
              "    animation:\n",
              "      spin 1s steps(1) infinite;\n",
              "  }\n",
              "\n",
              "  @keyframes spin {\n",
              "    0% {\n",
              "      border-color: transparent;\n",
              "      border-bottom-color: var(--fill-color);\n",
              "      border-left-color: var(--fill-color);\n",
              "    }\n",
              "    20% {\n",
              "      border-color: transparent;\n",
              "      border-left-color: var(--fill-color);\n",
              "      border-top-color: var(--fill-color);\n",
              "    }\n",
              "    30% {\n",
              "      border-color: transparent;\n",
              "      border-left-color: var(--fill-color);\n",
              "      border-top-color: var(--fill-color);\n",
              "      border-right-color: var(--fill-color);\n",
              "    }\n",
              "    40% {\n",
              "      border-color: transparent;\n",
              "      border-right-color: var(--fill-color);\n",
              "      border-top-color: var(--fill-color);\n",
              "    }\n",
              "    60% {\n",
              "      border-color: transparent;\n",
              "      border-right-color: var(--fill-color);\n",
              "    }\n",
              "    80% {\n",
              "      border-color: transparent;\n",
              "      border-right-color: var(--fill-color);\n",
              "      border-bottom-color: var(--fill-color);\n",
              "    }\n",
              "    90% {\n",
              "      border-color: transparent;\n",
              "      border-bottom-color: var(--fill-color);\n",
              "    }\n",
              "  }\n",
              "</style>\n",
              "\n",
              "      <script>\n",
              "        async function quickchart(key) {\n",
              "          const quickchartButtonEl =\n",
              "            document.querySelector('#' + key + ' button');\n",
              "          quickchartButtonEl.disabled = true;  // To prevent multiple clicks.\n",
              "          quickchartButtonEl.classList.add('colab-df-spinner');\n",
              "          try {\n",
              "            const charts = await google.colab.kernel.invokeFunction(\n",
              "                'suggestCharts', [key], {});\n",
              "          } catch (error) {\n",
              "            console.error('Error during call to suggestCharts:', error);\n",
              "          }\n",
              "          quickchartButtonEl.classList.remove('colab-df-spinner');\n",
              "          quickchartButtonEl.classList.add('colab-df-quickchart-complete');\n",
              "        }\n",
              "        (() => {\n",
              "          let quickchartButtonEl =\n",
              "            document.querySelector('#df-04fa2c5d-7f66-45e7-901e-276dbf2bc062 button');\n",
              "          quickchartButtonEl.style.display =\n",
              "            google.colab.kernel.accessAllowed ? 'block' : 'none';\n",
              "        })();\n",
              "      </script>\n",
              "    </div>\n",
              "\n",
              "    </div>\n",
              "  </div>\n"
            ],
            "application/vnd.google.colaboratory.intrinsic+json": {
              "type": "dataframe",
              "repr_error": "0"
            }
          },
          "metadata": {},
          "execution_count": 11
        }
      ]
    },
    {
      "cell_type": "code",
      "source": [
        "df = df.dropna(subset=['frase'])"
      ],
      "metadata": {
        "id": "fedQ-Ycm5jVC"
      },
      "execution_count": null,
      "outputs": []
    },
    {
      "cell_type": "markdown",
      "source": [
        "# Vectorización TF-IDF\n",
        "\n",
        "Los modelos de machine learning no trabajan con palabras, sino con números. Por lo tanto, necesitamos convertir nuestras frases limpias en vectores numéricos. Para ello, usamos la técnica **TF-IDF (Term Frequency-Inverse Document Frequency).**\n",
        "\n",
        "TF-IDF es una medida que evalúa qué tan relevante es una palabra en un documento (en nuestro caso, una frase) en relación con el conjunto completo de documentos. Asigna un peso mayor a las palabras que son frecuentes en una frase pero raras en el resto, ayudando al modelo a identificar los términos más distintivos para cada categoría de sentimiento. Aquí configuramos el vectorizador para que considere tanto palabras individuales como pares de palabras consecutivas (`ngram_range=(1,2)`), lo que le permite capturar un poco más de contexto."
      ],
      "metadata": {
        "id": "nvS_U_m-eDSA"
      }
    },
    {
      "cell_type": "code",
      "source": [
        "from sklearn.feature_extraction.text import TfidfVectorizer\n",
        "\n",
        "vectorizer = TfidfVectorizer(\n",
        "    lowercase=True,\n",
        "    ngram_range=(1,2),\n",
        "    min_df=2\n",
        ")\n",
        "\n",
        "X = vectorizer.fit_transform(df['frase_limpia'])\n",
        "y = df['sentimiento_predicho']\n",
        "\n",
        "print(\"Shape del vector TF-IDF:\", X.shape)"
      ],
      "metadata": {
        "colab": {
          "base_uri": "https://localhost:8080/"
        },
        "id": "vIG8D80DabXc",
        "outputId": "a81d55eb-06a8-4d13-8d79-a1d60220bcb0"
      },
      "execution_count": null,
      "outputs": [
        {
          "output_type": "stream",
          "name": "stdout",
          "text": [
            "Shape del vector TF-IDF: (17119, 11332)\n"
          ]
        }
      ]
    },
    {
      "cell_type": "code",
      "source": [
        "print(\"Tipo:\", type(X))\n",
        "print(\"Forma:\", X.shape)\n",
        "print(\"Número de features:\", len(vectorizer.get_feature_names_out()))"
      ],
      "metadata": {
        "colab": {
          "base_uri": "https://localhost:8080/"
        },
        "id": "MrNdJrd652gi",
        "outputId": "a395c52e-c4f1-45ab-cd19-c9cfacaa8e44"
      },
      "execution_count": null,
      "outputs": [
        {
          "output_type": "stream",
          "name": "stdout",
          "text": [
            "Tipo: <class 'scipy.sparse._csr.csr_matrix'>\n",
            "Forma: (17119, 11332)\n",
            "Número de features: 11332\n"
          ]
        }
      ]
    },
    {
      "cell_type": "markdown",
      "source": [
        "#Entrenamiento\n",
        "\n",
        "Esta es la fase central donde construiremos y evaluaremos nuestros modelos de clasificación. El primer paso es dividir nuestro conjunto de datos vectorizados en dos subconjuntos:\n",
        "\n",
        "- **Conjunto de entrenamiento** (`X_train`, `y_train`): Se utiliza para que el modelo aprenda los patrones en los datos (80% de los datos).\n",
        "\n",
        "- **Conjunto de prueba** (`X_test`, `y_test`): Se utiliza para evaluar qué tan bien generaliza el modelo en datos que no ha visto antes (20% de los datos).\n",
        "\n",
        "Usamos una división estratificada (`stratify=y`) para asegurar que la proporción de cada sentimiento sea la misma tanto en el entrenamiento como en la prueba, lo cual es vital para una evaluación justa, especialmente si las clases están desbalanceadas."
      ],
      "metadata": {
        "id": "umJ2P355hA_7"
      }
    },
    {
      "cell_type": "code",
      "source": [
        "from sklearn.model_selection import train_test_split\n",
        "from sklearn.metrics import classification_report, confusion_matrix\n",
        "\n",
        "X_train, X_test, y_train, y_test = train_test_split(\n",
        "    X, y, test_size=0.2, random_state=42, stratify=y\n",
        ")"
      ],
      "metadata": {
        "id": "p8Cqjp1sfnAQ"
      },
      "execution_count": null,
      "outputs": []
    },
    {
      "cell_type": "markdown",
      "source": [
        "## (1) Regresión Logística\n",
        "\n",
        "Comenzamos con un modelo de Regresión Logística, un algoritmo clásico, rápido y muy interpretable que sirve como un excelente punto de partida o modelo base. Para mejorar su rendimiento, lo integramos en un `Pipeline` que primero realiza una reducción de dimensionalidad con `TruncatedSVD` (para capturar la información más importante en menos características) y luego normaliza los datos antes de pasarlos al clasificador. Finalmente, visualizamos su desempeño con una matriz de confusión para ver en qué clases acierta y en cuáles se equivoca.\n"
      ],
      "metadata": {
        "id": "5OMP3HwBmFbi"
      }
    },
    {
      "cell_type": "code",
      "source": [
        "from sklearn.decomposition import TruncatedSVD\n",
        "from sklearn.preprocessing import Normalizer\n",
        "from sklearn.pipeline import Pipeline\n",
        "from sklearn.linear_model import LogisticRegression\n",
        "from sklearn.model_selection import GridSearchCV, StratifiedKFold\n",
        "from sklearn.metrics import classification_report\n",
        "\n",
        "pipe = Pipeline([\n",
        "    (\"svd\", TruncatedSVD(n_components=150, random_state=42)),\n",
        "    (\"norm\", Normalizer(copy=False)),\n",
        "    (\"clf\", LogisticRegression(\n",
        "        max_iter=1000,\n",
        "        solver=\"lbfgs\",\n",
        "        C=1.0,\n",
        "        class_weight=\"balanced\"\n",
        "    ))\n",
        "])\n",
        "\n",
        "pipe.fit(X_train, y_train)\n",
        "y_pred = pipe.predict(X_test)\n",
        "\n",
        "print(classification_report(y_test, y_pred))"
      ],
      "metadata": {
        "colab": {
          "base_uri": "https://localhost:8080/"
        },
        "id": "TcqNGG9Wec6c",
        "outputId": "89e57e57-70bd-4987-8e82-dec8af20408b"
      },
      "execution_count": null,
      "outputs": [
        {
          "output_type": "stream",
          "name": "stdout",
          "text": [
            "              precision    recall  f1-score   support\n",
            "\n",
            "    negativo       0.50      0.50      0.50      1033\n",
            "     neutral       0.62      0.53      0.57      1516\n",
            "    positivo       0.49      0.61      0.54       875\n",
            "\n",
            "    accuracy                           0.54      3424\n",
            "   macro avg       0.54      0.55      0.54      3424\n",
            "weighted avg       0.55      0.54      0.54      3424\n",
            "\n"
          ]
        }
      ]
    },
    {
      "cell_type": "code",
      "source": [
        "import seaborn as sns\n",
        "import matplotlib.pyplot as plt\n",
        "\n",
        "# Crear la matriz de confusión\n",
        "cm = confusion_matrix(y_test, y_pred, labels=pipe.named_steps[\"clf\"].classes_)\n",
        "\n",
        "# Graficar con seaborn\n",
        "plt.figure(figsize=(6,5))\n",
        "sns.heatmap(\n",
        "    cm,\n",
        "    annot=True,        # muestra los números\n",
        "    fmt='d',           # formato entero\n",
        "    cmap='Blues',      # color azul\n",
        "    xticklabels=pipe.named_steps[\"clf\"].classes_,  # etiquetas eje X\n",
        "    yticklabels=pipe.named_steps[\"clf\"].classes_   # etiquetas eje Y\n",
        ")\n",
        "\n",
        "plt.xlabel('Predicción', fontsize=12)\n",
        "plt.ylabel('Etiqueta real', fontsize=12)\n",
        "plt.title('Matriz de confusión - Clasificación de sentimientos', fontsize=14)\n",
        "plt.show()\n"
      ],
      "metadata": {
        "colab": {
          "base_uri": "https://localhost:8080/",
          "height": 492
        },
        "id": "G610ENLRh-qf",
        "outputId": "78cbf13e-957e-49d3-d95f-ca4671697882"
      },
      "execution_count": null,
      "outputs": [
        {
          "output_type": "display_data",
          "data": {
            "text/plain": [
              "<Figure size 600x500 with 2 Axes>"
            ],
            "image/png": "[encoded data removed]"
          },
          "metadata": {}
        }
      ]
    },
    {
      "cell_type": "markdown",
      "source": [
        "## (2) SVM\n",
        "\n",
        "A continuación, probamos un clasificador de Máquinas de Vectores de Soporte (SVM), específicamente `LinearSVC`, conocido por su gran eficacia en problemas de clasificación de texto. En este `Pipeline`, en lugar de SVD, utilizamos `SelectKBest` con la prueba `chi2` para la selección de características. Este método elige las 50,000 características (palabras o n-gramas) que tienen la relación estadística más fuerte con las clases de sentimiento, permitiendo que el modelo se enfoque en las señales más relevantes."
      ],
      "metadata": {
        "id": "u4LavL0hmRg5"
      }
    },
    {
      "cell_type": "code",
      "source": [
        "from sklearn.feature_selection import SelectKBest, chi2\n",
        "from sklearn.svm import LinearSVC\n",
        "from sklearn.metrics import classification_report\n",
        "\n",
        "pipe = Pipeline([\n",
        "    (\"chi2\", SelectKBest(chi2, k=50000)),  # prueba 10k/20k/30k según tamaño\n",
        "    (\"svm\", LinearSVC(class_weight=\"balanced\", C=1.0, max_iter=10000))\n",
        "])\n",
        "\n",
        "pipe.fit(X_train, y_train)\n",
        "y_pred = pipe.predict(X_test)\n",
        "print(classification_report(y_test, y_pred))"
      ],
      "metadata": {
        "colab": {
          "base_uri": "https://localhost:8080/"
        },
        "id": "Xz9f9QK3iakA",
        "outputId": "6a655482-4b1c-4ced-99ce-93d60c827efe"
      },
      "execution_count": null,
      "outputs": [
        {
          "output_type": "stream",
          "name": "stderr",
          "text": [
            "/usr/local/lib/python3.12/dist-packages/sklearn/feature_selection/_univariate_selection.py:783: UserWarning: k=50000 is greater than n_features=11332. All the features will be returned.\n",
            "  warnings.warn(\n"
          ]
        },
        {
          "output_type": "stream",
          "name": "stdout",
          "text": [
            "              precision    recall  f1-score   support\n",
            "\n",
            "    negativo       0.76      0.73      0.74      1033\n",
            "     neutral       0.76      0.77      0.77      1516\n",
            "    positivo       0.74      0.76      0.75       875\n",
            "\n",
            "    accuracy                           0.75      3424\n",
            "   macro avg       0.75      0.75      0.75      3424\n",
            "weighted avg       0.75      0.75      0.75      3424\n",
            "\n"
          ]
        }
      ]
    },
    {
      "cell_type": "code",
      "source": [
        "# Crear la matriz de confusión\n",
        "cm = confusion_matrix(y_test, y_pred, labels=pipe.named_steps[\"svm\"].classes_)\n",
        "\n",
        "# Graficar con seaborn\n",
        "plt.figure(figsize=(6,5))\n",
        "sns.heatmap(\n",
        "    cm,\n",
        "    annot=True,        # muestra los números\n",
        "    fmt='d',           # formato entero\n",
        "    cmap='Blues',      # color azul\n",
        "    xticklabels=pipe.named_steps[\"svm\"].classes_,  # etiquetas eje X\n",
        "    yticklabels=pipe.named_steps[\"svm\"].classes_   # etiquetas eje Y\n",
        ")\n",
        "\n",
        "plt.xlabel('Predicción', fontsize=12)\n",
        "plt.ylabel('Etiqueta real', fontsize=12)\n",
        "plt.title('Matriz de confusión - Clasificación de sentimientos', fontsize=14)\n",
        "plt.show()"
      ],
      "metadata": {
        "colab": {
          "base_uri": "https://localhost:8080/",
          "height": 492
        },
        "id": "4xycl1ghFBlo",
        "outputId": "347d90ed-b36c-4540-d0b9-38485f3e7f5d"
      },
      "execution_count": null,
      "outputs": [
        {
          "output_type": "display_data",
          "data": {
            "text/plain": [
              "<Figure size 600x500 with 2 Axes>"
            ],
            "image/png": "[encoded data removed]"
          },
          "metadata": {}
        }
      ]
    },
    {
      "cell_type": "markdown",
      "source": [
        "##(3) SVM + N-grams\n",
        "\n",
        "Aquí exploramos el poder de los N-gramas para capturar más contexto. Un n-grama es una secuencia de 'n' ítems (palabras o caracteres). Probamos tres enfoques diferentes, todos con un clasificador SVM:\n",
        "\n",
        "- **Bi-gramas de palabras:** Considera secuencias de una y dos palabras (ej. \"no quiero\").\n",
        "\n",
        "- **Tri-gramas de palabras:** Amplía el contexto a secuencias de hasta tres palabras (ej. \"ya no te quiero\").\n",
        "\n",
        "- **N-gramas de caracteres:** Analiza secuencias de 3 a 5 caracteres. Este enfoque es muy robusto frente a errores de tipeo o variaciones morfológicas de las palabras (ej. \"querer\", \"quererte\", \"quiero\").\n",
        "\n",
        "Al final, analizamos qué n-gramas de caracteres son los más influyentes para cada categoría de sentimiento, dándonos una idea de qué patrones a nivel de sub-palabra aprende el modelo."
      ],
      "metadata": {
        "id": "5gQpQbAIyiB_"
      }
    },
    {
      "cell_type": "markdown",
      "source": [
        "bi-grams"
      ],
      "metadata": {
        "id": "D3O4VENYyiCA"
      }
    },
    {
      "cell_type": "code",
      "source": [
        "from sklearn.pipeline import Pipeline\n",
        "from sklearn.svm import LinearSVC\n",
        "from sklearn.feature_extraction.text import TfidfVectorizer\n",
        "from sklearn.metrics import classification_report\n",
        "from sklearn.model_selection import train_test_split\n",
        "X_train_text, X_test_text, y_train_, y_test_ = train_test_split(\n",
        "    df[\"frase_limpia\"], y, test_size=0.2, random_state=42, stratify=y\n",
        ")"
      ],
      "metadata": {
        "id": "p2AGaUXFyiCA"
      },
      "execution_count": null,
      "outputs": []
    },
    {
      "cell_type": "code",
      "source": [
        "pipe_word = Pipeline([\n",
        "    (\"tfidf\", TfidfVectorizer(lowercase=True, ngram_range=(1,2),\n",
        "                              min_df=2, max_df=0.9, sublinear_tf=True)),\n",
        "    (\"svm\", LinearSVC(class_weight=\"balanced\", C=1.0, max_iter=5000))\n",
        "])\n",
        "\n",
        "pipe_word.fit(X_train_text, y_train_)\n",
        "y_pred_word = pipe_word.predict(X_test_text)\n",
        "print(classification_report(y_test_, y_pred_word))"
      ],
      "metadata": {
        "colab": {
          "base_uri": "https://localhost:8080/"
        },
        "outputId": "86192b2f-7081-4778-ad98-7d699c60806b",
        "id": "tDpe0i83yiCA"
      },
      "execution_count": null,
      "outputs": [
        {
          "output_type": "stream",
          "name": "stdout",
          "text": [
            "              precision    recall  f1-score   support\n",
            "\n",
            "    negativo       0.71      0.66      0.68      1033\n",
            "     neutral       0.73      0.74      0.74      1516\n",
            "    positivo       0.71      0.74      0.72       875\n",
            "\n",
            "    accuracy                           0.72      3424\n",
            "   macro avg       0.72      0.72      0.72      3424\n",
            "weighted avg       0.72      0.72      0.72      3424\n",
            "\n"
          ]
        }
      ]
    },
    {
      "cell_type": "markdown",
      "source": [
        "tri-grams"
      ],
      "metadata": {
        "id": "Sfgum8IxyiCA"
      }
    },
    {
      "cell_type": "code",
      "source": [
        "pipe_word = Pipeline([\n",
        "    (\"tfidf\", TfidfVectorizer(\n",
        "        lowercase=True,\n",
        "        ngram_range=(1,3),        # ← sube a tri-gramas\n",
        "        min_df=2,\n",
        "        max_df=0.9,\n",
        "        sublinear_tf=True,\n",
        "        max_features=100_000      # ← evita que explote y acelera\n",
        "    )),\n",
        "    (\"svm\", LinearSVC(class_weight=\"balanced\", C=1.0, max_iter=5000))\n",
        "])\n",
        "\n",
        "pipe_word.fit(X_train_text, y_train_)\n",
        "y_pred_word = pipe_word.predict(X_test_text)\n",
        "print(classification_report(y_test_, y_pred_word))"
      ],
      "metadata": {
        "colab": {
          "base_uri": "https://localhost:8080/"
        },
        "outputId": "d734957a-c7fa-43ff-8edd-43dc6f4a5868",
        "id": "hVyuVIc9yiCB"
      },
      "execution_count": null,
      "outputs": [
        {
          "output_type": "stream",
          "name": "stdout",
          "text": [
            "              precision    recall  f1-score   support\n",
            "\n",
            "    negativo       0.70      0.66      0.68      1033\n",
            "     neutral       0.73      0.74      0.74      1516\n",
            "    positivo       0.72      0.74      0.73       875\n",
            "\n",
            "    accuracy                           0.72      3424\n",
            "   macro avg       0.72      0.72      0.72      3424\n",
            "weighted avg       0.72      0.72      0.72      3424\n",
            "\n"
          ]
        }
      ]
    },
    {
      "cell_type": "markdown",
      "source": [
        "n-gramas de caracteres"
      ],
      "metadata": {
        "id": "Ev0gSDkfyiCB"
      }
    },
    {
      "cell_type": "code",
      "source": [
        "pipe_char = Pipeline([\n",
        "    (\"tfidf\", TfidfVectorizer(\n",
        "        analyzer=\"char\",\n",
        "        ngram_range=(3,5),\n",
        "        min_df=2,\n",
        "        sublinear_tf=True,\n",
        "        max_features=200_000\n",
        "    )),\n",
        "    (\"svm\", LinearSVC(class_weight=\"balanced\", C=2.0, max_iter=5000))\n",
        "])\n",
        "\n",
        "pipe_char.fit(X_train_text, y_train_)\n",
        "y_pred_char = pipe_char.predict(X_test_text)\n",
        "print(classification_report(y_test_, y_pred_char))"
      ],
      "metadata": {
        "colab": {
          "base_uri": "https://localhost:8080/"
        },
        "outputId": "c11c5796-166e-4321-f648-d25ecdcf4715",
        "id": "uHpqoWubyiCB"
      },
      "execution_count": null,
      "outputs": [
        {
          "output_type": "stream",
          "name": "stdout",
          "text": [
            "              precision    recall  f1-score   support\n",
            "\n",
            "    negativo       0.75      0.75      0.75      1033\n",
            "     neutral       0.77      0.77      0.77      1516\n",
            "    positivo       0.75      0.76      0.75       875\n",
            "\n",
            "    accuracy                           0.76      3424\n",
            "   macro avg       0.76      0.76      0.76      3424\n",
            "weighted avg       0.76      0.76      0.76      3424\n",
            "\n"
          ]
        }
      ]
    },
    {
      "cell_type": "code",
      "source": [
        "# Crear la matriz de confusión\n",
        "cm = confusion_matrix(y_test_, y_pred_char, labels=pipe_char.named_steps[\"svm\"].classes_)\n",
        "\n",
        "# Graficar con seaborn\n",
        "plt.figure(figsize=(6,5))\n",
        "sns.heatmap(\n",
        "    cm,\n",
        "    annot=True,        # muestra los números\n",
        "    fmt='d',           # formato entero\n",
        "    cmap='Blues',      # color azul\n",
        "    xticklabels=pipe_char.named_steps[\"svm\"].classes_,  # etiquetas eje X\n",
        "    yticklabels=pipe_char.named_steps[\"svm\"].classes_   # etiquetas eje Y\n",
        ")\n",
        "\n",
        "plt.xlabel('Predicción', fontsize=12)\n",
        "plt.ylabel('Etiqueta real', fontsize=12)\n",
        "plt.title('Matriz de confusión - Clasificación de sentimientos', fontsize=14)\n",
        "plt.show()"
      ],
      "metadata": {
        "colab": {
          "base_uri": "https://localhost:8080/",
          "height": 492
        },
        "outputId": "3456c069-48bc-4cec-a688-42b28eaa26a7",
        "id": "XBryeiDryiCB"
      },
      "execution_count": null,
      "outputs": [
        {
          "output_type": "display_data",
          "data": {
            "text/plain": [
              "<Figure size 600x500 with 2 Axes>"
            ],
            "image/png": "[encoded data removed]"
          },
          "metadata": {}
        }
      ]
    },
    {
      "cell_type": "code",
      "source": [
        "def top_ngrams_por_clase_char(pipeline, k=20):\n",
        "    \"\"\"Muestra los n-gramas de caracteres con mayor peso para cada clase.\"\"\"\n",
        "    vec = pipeline.named_steps[\"tfidf\"]\n",
        "    clf = pipeline.named_steps[\"svm\"]\n",
        "    clases = clf.classes_\n",
        "    feature_names = np.array(vec.get_feature_names_out())\n",
        "    coefs = clf.coef_  # pesos del clasificador\n",
        "\n",
        "    resultados = {}\n",
        "\n",
        "    for i, clase in enumerate(clases):\n",
        "        idx = np.argsort(coefs[i])[-k:][::-1]  # top-k más positivos\n",
        "        top_feats = list(zip(feature_names[idx], coefs[i][idx]))\n",
        "        resultados[clase] = top_feats\n",
        "\n",
        "    return resultados\n",
        "\n",
        "\n",
        "# === Usar con tu modelo entrenado ===\n",
        "tops = top_ngrams_por_clase_char(pipe_char, k=20)\n",
        "\n",
        "for clase, lista in tops.items():\n",
        "    print(f\"\\n=== Clase: {clase} ===\")\n",
        "    for ng, peso in lista:\n",
        "        print(f\"{ng!r}\\t{peso:.4f}\")\n"
      ],
      "metadata": {
        "outputId": "ca092f07-3f93-4696-8270-61b721ceec93",
        "colab": {
          "base_uri": "https://localhost:8080/"
        },
        "id": "eZdozksByiCB"
      },
      "execution_count": null,
      "outputs": [
        {
          "output_type": "stream",
          "name": "stdout",
          "text": [
            "\n",
            "=== Clase: negativo ===\n",
            "'mal'\t2.5827\n",
            "'o mal'\t2.1479\n",
            "'ios v'\t2.0867\n",
            "'aca'\t1.9811\n",
            "'ido d'\t1.9545\n",
            "'e rea'\t1.9458\n",
            "'dej'\t1.9446\n",
            "'ieren'\t1.9037\n",
            "'pero '\t1.8443\n",
            "'ro pa'\t1.8240\n",
            "'ngra'\t1.8128\n",
            "'é vid'\t1.8047\n",
            "' na '\t1.7871\n",
            "'dol'\t1.7552\n",
            "'tris'\t1.7521\n",
            "'trist'\t1.7521\n",
            "'vas s'\t1.7495\n",
            "'sta m'\t1.7409\n",
            "'fal'\t1.7355\n",
            "'ía ca'\t1.7191\n",
            "\n",
            "=== Clase: neutral ===\n",
            "'ores '\t1.8724\n",
            "'evi'\t1.7978\n",
            "'par'\t1.7809\n",
            "'nza a'\t1.7796\n",
            "'rado '\t1.7605\n",
            "'ien m'\t1.7359\n",
            "'des e'\t1.7295\n",
            "' dos'\t1.7292\n",
            "'si '\t1.6815\n",
            "'fro q'\t1.6163\n",
            "'no a'\t1.5898\n",
            "'a x'\t1.5757\n",
            "'y vid'\t1.5556\n",
            "'ido b'\t1.5100\n",
            "'ke '\t1.5059\n",
            "'iero '\t1.5013\n",
            "'s pre'\t1.5011\n",
            "'r vo'\t1.4867\n",
            "'sito '\t1.4865\n",
            "'cen a'\t1.4853\n",
            "\n",
            "=== Clase: positivo ===\n",
            "'amo'\t2.4753\n",
            "'ido n'\t2.4728\n",
            "'mas n'\t2.3392\n",
            "'es va'\t2.0448\n",
            "'gos s'\t1.8863\n",
            "'bell'\t1.8530\n",
            "'da i'\t1.8188\n",
            "'rtant'\t1.8147\n",
            "'sos a'\t1.8125\n",
            "'ca de'\t1.7923\n",
            "'rdo a'\t1.7722\n",
            "'a muj'\t1.7518\n",
            "'bes'\t1.7394\n",
            "'flor '\t1.7331\n",
            "'igo s'\t1.7221\n",
            "' am'\t1.7005\n",
            "'do n'\t1.6942\n",
            "'ero m'\t1.6787\n",
            "'suela'\t1.6751\n",
            "'ntart'\t1.6726\n"
          ]
        }
      ]
    },
    {
      "cell_type": "markdown",
      "source": [
        "## (4) Naive Bayes\n",
        "\n",
        "Ahora implementamos un clasificador Naive Bayes, un algoritmo probabilístico basado en el teorema de Bayes que es tradicionalmente rápido y efectivo para la clasificación de texto. Específicamente, usamos `ComplementNB`, una variante del Naive Bayes Multinomial que está especialmente diseñada para funcionar bien con conjuntos de datos desbalanceados, corrigiendo algunas de las suposiciones del modelo estándar para mejorar el rendimiento en clases minoritarias."
      ],
      "metadata": {
        "id": "pwtLDBEzF4xi"
      }
    },
    {
      "cell_type": "code",
      "source": [
        "from sklearn.naive_bayes import MultinomialNB\n",
        "from sklearn.model_selection import GridSearchCV, StratifiedKFold\n",
        "from sklearn.naive_bayes import ComplementNB\n",
        "\n",
        "cnb = ComplementNB(alpha=0.5)  # o prueba [0.5,1,2]\n",
        "cnb.fit(X_train, y_train)\n",
        "y_pred_cnb = cnb.predict(X_test)\n",
        "\n",
        "print(\"=== Complement NB ===\")\n",
        "print(classification_report(y_test, y_pred_cnb))"
      ],
      "metadata": {
        "colab": {
          "base_uri": "https://localhost:8080/"
        },
        "id": "jPBtvieujUOk",
        "outputId": "295688a6-d13b-46e4-9296-0eb04ae71877"
      },
      "execution_count": null,
      "outputs": [
        {
          "output_type": "stream",
          "name": "stdout",
          "text": [
            "=== Complement NB ===\n",
            "              precision    recall  f1-score   support\n",
            "\n",
            "    negativo       0.70      0.74      0.72      1033\n",
            "     neutral       0.79      0.68      0.73      1516\n",
            "    positivo       0.66      0.79      0.72       875\n",
            "\n",
            "    accuracy                           0.72      3424\n",
            "   macro avg       0.72      0.73      0.72      3424\n",
            "weighted avg       0.73      0.72      0.72      3424\n",
            "\n"
          ]
        }
      ]
    },
    {
      "cell_type": "code",
      "source": [
        "# Crear la matriz de confusión\n",
        "cm = confusion_matrix(y_test, y_pred_cnb, labels=cnb.classes_)\n",
        "\n",
        "# Graficar con seaborn\n",
        "plt.figure(figsize=(6,5))\n",
        "sns.heatmap(\n",
        "    cm,\n",
        "    annot=True,        # muestra los números\n",
        "    fmt='d',           # formato entero\n",
        "    cmap='Blues',      # color azul\n",
        "    xticklabels=cnb.classes_,  # etiquetas eje X\n",
        "    yticklabels=cnb.classes_   # etiquetas eje Y\n",
        ")\n",
        "\n",
        "plt.xlabel('Predicción', fontsize=12)\n",
        "plt.ylabel('Etiqueta real', fontsize=12)\n",
        "plt.title('Matriz de confusión - Clasificación de sentimientos', fontsize=14)\n",
        "plt.show()"
      ],
      "metadata": {
        "colab": {
          "base_uri": "https://localhost:8080/",
          "height": 492
        },
        "id": "Mj0j-5tCHJbZ",
        "outputId": "0a37cb56-8116-4ade-f817-4ccb0594c702"
      },
      "execution_count": null,
      "outputs": [
        {
          "output_type": "display_data",
          "data": {
            "text/plain": [
              "<Figure size 600x500 with 2 Axes>"
            ],
            "image/png": "[encoded data removed]"
          },
          "metadata": {}
        }
      ]
    },
    {
      "cell_type": "markdown",
      "source": [
        "## (5) RF\n",
        "\n",
        "Este algoritmo construye múltiples árboles de decisión durante el entrenamiento y combina sus predicciones para obtener una clasificación final más precisa y robusta. Al igual que con la Regresión Logística, lo integramos en un `Pipeline` con `TruncatedSVD` para reducir la dimensionalidad de los datos antes de alimentar al bosque, lo que ayuda a que cada árbol se entrene con las características más significativas."
      ],
      "metadata": {
        "id": "Wb63iY7XmbPG"
      }
    },
    {
      "cell_type": "code",
      "source": [
        "from sklearn.ensemble import RandomForestClassifier\n",
        "\n",
        "pipe_rf = Pipeline([\n",
        "    (\"svd\", TruncatedSVD(n_components=200, random_state=42)),  # 100–300 va bien\n",
        "    (\"norm\", Normalizer(copy=False)),\n",
        "    (\"rf\", RandomForestClassifier(\n",
        "        n_estimators=100,           # baja a 100 para velocidad\n",
        "        max_depth=20,              # limita profundidad\n",
        "        min_samples_leaf=3,        # evita sobreajuste y reduce nodos\n",
        "        max_features=\"sqrt\",       # menos atributos por split\n",
        "        bootstrap=False,           # más rápido que bootstrap=True\n",
        "        n_jobs=-1,\n",
        "        random_state=42\n",
        "    ))\n",
        "])\n",
        "\n",
        "pipe_rf.fit(X_train, y_train)\n",
        "y_pred_rf = pipe_rf.predict(X_test)\n",
        "print(\"=== RF con SVD (200) ===\")\n",
        "print(classification_report(y_test, y_pred_rf))"
      ],
      "metadata": {
        "colab": {
          "base_uri": "https://localhost:8080/"
        },
        "id": "EmYjh5gcjb_k",
        "outputId": "5be1d149-24b3-4c13-fac6-c24a286d8279"
      },
      "execution_count": null,
      "outputs": [
        {
          "output_type": "stream",
          "name": "stdout",
          "text": [
            "=== RF con SVD (200) ===\n",
            "              precision    recall  f1-score   support\n",
            "\n",
            "    negativo       0.78      0.60      0.68      1033\n",
            "     neutral       0.67      0.86      0.76      1516\n",
            "    positivo       0.78      0.60      0.68       875\n",
            "\n",
            "    accuracy                           0.72      3424\n",
            "   macro avg       0.74      0.69      0.71      3424\n",
            "weighted avg       0.73      0.72      0.71      3424\n",
            "\n"
          ]
        }
      ]
    },
    {
      "cell_type": "code",
      "source": [
        "# Crear la matriz de confusión\n",
        "cm = confusion_matrix(y_test, y_pred_rf, labels=cnb.classes_)\n",
        "\n",
        "# Graficar con seaborn\n",
        "plt.figure(figsize=(6,5))\n",
        "sns.heatmap(\n",
        "    cm,\n",
        "    annot=True,        # muestra los números\n",
        "    fmt='d',           # formato entero\n",
        "    cmap='Blues',      # color azul\n",
        "    xticklabels=cnb.classes_,  # etiquetas eje X\n",
        "    yticklabels=cnb.classes_   # etiquetas eje Y\n",
        ")\n",
        "\n",
        "plt.xlabel('Predicción', fontsize=12)\n",
        "plt.ylabel('Etiqueta real', fontsize=12)\n",
        "plt.title('Matriz de confusión - Clasificación de sentimientos', fontsize=14)\n",
        "plt.show()"
      ],
      "metadata": {
        "colab": {
          "base_uri": "https://localhost:8080/",
          "height": 492
        },
        "id": "_wqVlCRQIQsc",
        "outputId": "eb3448b8-59a0-4440-fae0-b877399bd5d9"
      },
      "execution_count": null,
      "outputs": [
        {
          "output_type": "display_data",
          "data": {
            "text/plain": [
              "<Figure size 600x500 with 2 Axes>"
            ],
            "image/png": "[encoded data removed]"
          },
          "metadata": {}
        }
      ]
    },
    {
      "cell_type": "markdown",
      "source": [
        "## (6) MLP\n",
        "\n",
        "Finalmente, damos un paso hacia el deep learning con un Perceptrón Multicapa (MLP). Se trata de una red neuronal artificial con varias capas densamente conectadas, capaz de aprender patrones mucho más complejos y no lineales en los datos. Nuestra arquitectura incluye capas ocultas con activación `ReLU` y capas de `Dropout` para prevenir el sobreajuste. La capa final utiliza una activación `softmax` para producir una distribución de probabilidad sobre las diferentes clases de sentimiento."
      ],
      "metadata": {
        "id": "g17SvtKBmim3"
      }
    },
    {
      "cell_type": "code",
      "source": [
        "from tensorflow.keras.models import Sequential\n",
        "from tensorflow.keras.layers import Dense, Dropout\n",
        "from sklearn.preprocessing import LabelEncoder\n",
        "\n",
        "# Codificar etiquetas\n",
        "enc = LabelEncoder()\n",
        "y_train_enc = enc.fit_transform(y_train)\n",
        "y_test_enc = enc.transform(y_test)"
      ],
      "metadata": {
        "id": "FmFR_dkYs4Gl"
      },
      "execution_count": null,
      "outputs": []
    },
    {
      "cell_type": "code",
      "source": [
        "# Crear red MLP\n",
        "model = Sequential([\n",
        "    Dense(512, activation='relu', input_dim=X_train.shape[1]),\n",
        "    Dropout(0.4),\n",
        "    Dense(256, activation='relu'),\n",
        "    Dropout(0.3),\n",
        "    Dense(len(enc.classes_), activation='softmax')\n",
        "])\n",
        "\n",
        "model.compile(optimizer='adam', loss='sparse_categorical_crossentropy', metrics=['accuracy'])\n",
        "\n",
        "history = model.fit(X_train.toarray(), y_train_enc,\n",
        "                    validation_split=0.1, epochs=10, batch_size=64, verbose=1)\n",
        "\n",
        "loss, acc = model.evaluate(X_test.toarray(), y_test_enc)\n",
        "print(f\"Accuracy test: {acc:.3f}\")"
      ],
      "metadata": {
        "colab": {
          "base_uri": "https://localhost:8080/"
        },
        "id": "lkKzkchakmlm",
        "outputId": "b8464c2f-acf9-4f3c-b3dd-851c3fe4f545"
      },
      "execution_count": null,
      "outputs": [
        {
          "output_type": "stream",
          "name": "stderr",
          "text": [
            "/usr/local/lib/python3.12/dist-packages/keras/src/layers/core/dense.py:93: UserWarning: Do not pass an `input_shape`/`input_dim` argument to a layer. When using Sequential models, prefer using an `Input(shape)` object as the first layer in the model instead.\n",
            "  super().__init__(activity_regularizer=activity_regularizer, **kwargs)\n"
          ]
        },
        {
          "output_type": "stream",
          "name": "stdout",
          "text": [
            "Epoch 1/10\n",
            "\u001b[1m193/193\u001b[0m \u001b[32m━━━━━━━━━━━━━━━━━━━━\u001b[0m\u001b[37m\u001b[0m \u001b[1m30s\u001b[0m 138ms/step - accuracy: 0.4878 - loss: 0.9928 - val_accuracy: 0.7124 - val_loss: 0.6808\n",
            "Epoch 2/10\n",
            "\u001b[1m193/193\u001b[0m \u001b[32m━━━━━━━━━━━━━━━━━━━━\u001b[0m\u001b[37m\u001b[0m \u001b[1m17s\u001b[0m 86ms/step - accuracy: 0.8358 - loss: 0.4354 - val_accuracy: 0.7314 - val_loss: 0.6422\n",
            "Epoch 3/10\n",
            "\u001b[1m193/193\u001b[0m \u001b[32m━━━━━━━━━━━━━━━━━━━━\u001b[0m\u001b[37m\u001b[0m \u001b[1m17s\u001b[0m 87ms/step - accuracy: 0.9071 - loss: 0.2530 - val_accuracy: 0.7380 - val_loss: 0.7332\n",
            "Epoch 4/10\n",
            "\u001b[1m193/193\u001b[0m \u001b[32m━━━━━━━━━━━━━━━━━━━━\u001b[0m\u001b[37m\u001b[0m \u001b[1m20s\u001b[0m 86ms/step - accuracy: 0.9374 - loss: 0.1792 - val_accuracy: 0.7401 - val_loss: 0.8245\n",
            "Epoch 5/10\n",
            "\u001b[1m193/193\u001b[0m \u001b[32m━━━━━━━━━━━━━━━━━━━━\u001b[0m\u001b[37m\u001b[0m \u001b[1m21s\u001b[0m 91ms/step - accuracy: 0.9469 - loss: 0.1373 - val_accuracy: 0.7423 - val_loss: 0.8949\n",
            "Epoch 6/10\n",
            "\u001b[1m193/193\u001b[0m \u001b[32m━━━━━━━━━━━━━━━━━━━━\u001b[0m\u001b[37m\u001b[0m \u001b[1m18s\u001b[0m 95ms/step - accuracy: 0.9550 - loss: 0.1169 - val_accuracy: 0.7350 - val_loss: 0.9591\n",
            "Epoch 7/10\n",
            "\u001b[1m193/193\u001b[0m \u001b[32m━━━━━━━━━━━━━━━━━━━━\u001b[0m\u001b[37m\u001b[0m \u001b[1m18s\u001b[0m 93ms/step - accuracy: 0.9619 - loss: 0.1016 - val_accuracy: 0.7219 - val_loss: 1.0159\n",
            "Epoch 8/10\n",
            "\u001b[1m193/193\u001b[0m \u001b[32m━━━━━━━━━━━━━━━━━━━━\u001b[0m\u001b[37m\u001b[0m \u001b[1m20s\u001b[0m 89ms/step - accuracy: 0.9649 - loss: 0.0887 - val_accuracy: 0.7394 - val_loss: 1.0125\n",
            "Epoch 9/10\n",
            "\u001b[1m193/193\u001b[0m \u001b[32m━━━━━━━━━━━━━━━━━━━━\u001b[0m\u001b[37m\u001b[0m \u001b[1m18s\u001b[0m 91ms/step - accuracy: 0.9631 - loss: 0.0897 - val_accuracy: 0.7343 - val_loss: 1.0701\n",
            "Epoch 10/10\n",
            "\u001b[1m193/193\u001b[0m \u001b[32m━━━━━━━━━━━━━━━━━━━━\u001b[0m\u001b[37m\u001b[0m \u001b[1m20s\u001b[0m 88ms/step - accuracy: 0.9669 - loss: 0.0852 - val_accuracy: 0.7343 - val_loss: 1.0687\n",
            "\u001b[1m107/107\u001b[0m \u001b[32m━━━━━━━━━━━━━━━━━━━━\u001b[0m\u001b[37m\u001b[0m \u001b[1m1s\u001b[0m 13ms/step - accuracy: 0.7268 - loss: 1.0705\n",
            "Accuracy test: 0.729\n"
          ]
        }
      ]
    },
    {
      "cell_type": "code",
      "source": [
        "type(X_test), type(X_train)"
      ],
      "metadata": {
        "colab": {
          "base_uri": "https://localhost:8080/"
        },
        "id": "DyCWbyRasowR",
        "outputId": "4285aa59-41c7-47ab-e661-3a02a79493a6"
      },
      "execution_count": null,
      "outputs": [
        {
          "output_type": "execute_result",
          "data": {
            "text/plain": [
              "(scipy.sparse._csr.csr_matrix, scipy.sparse._csr.csr_matrix)"
            ]
          },
          "metadata": {},
          "execution_count": 32
        }
      ]
    },
    {
      "cell_type": "code",
      "source": [
        "# Predicciones\n",
        "y_pred_probs = model.predict(X_test.toarray())\n",
        "y_pred = np.argmax(y_pred_probs, axis=1)\n",
        "\n",
        "# Reporte de clasificación\n",
        "print(\"=== Reporte de Clasificación - MLP ===\")\n",
        "print(classification_report(y_test_enc, y_pred, target_names=enc.classes_))\n",
        "\n",
        "# Matriz de confusión\n",
        "cm = confusion_matrix(y_test_enc, y_pred)\n",
        "plt.figure(figsize=(6,5))\n",
        "sns.heatmap(cm, annot=True, fmt='d', cmap='Blues',\n",
        "            xticklabels=enc.classes_, yticklabels=enc.classes_)\n",
        "plt.xlabel('Predicción')\n",
        "plt.ylabel('Etiqueta real')\n",
        "plt.title('Matriz de Confusión - MLP (TF-IDF)')\n",
        "plt.show()"
      ],
      "metadata": {
        "colab": {
          "base_uri": "https://localhost:8080/"
        },
        "id": "0f1lYzwqrCPL",
        "outputId": "56224a6c-392c-459b-cac5-3140139afac0"
      },
      "execution_count": null,
      "outputs": [
        {
          "output_type": "stream",
          "name": "stdout",
          "text": [
            "\u001b[1m107/107\u001b[0m \u001b[32m━━━━━━━━━━━━━━━━━━━━\u001b[0m\u001b[37m\u001b[0m \u001b[1m2s\u001b[0m 17ms/step\n",
            "=== Reporte de Clasificación - MLP ===\n",
            "              precision    recall  f1-score   support\n",
            "\n",
            "    negativo       0.75      0.68      0.71      1033\n",
            "     neutral       0.72      0.78      0.75      1516\n",
            "    positivo       0.72      0.70      0.71       875\n",
            "\n",
            "    accuracy                           0.73      3424\n",
            "   macro avg       0.73      0.72      0.72      3424\n",
            "weighted avg       0.73      0.73      0.73      3424\n",
            "\n"
          ]
        },
        {
          "output_type": "display_data",
          "data": {
            "text/plain": [
              "<Figure size 600x500 with 2 Axes>"
            ],
            "image/png": "[encoded data removed]"
          },
          "metadata": {}
        }
      ]
    }
  ]
}